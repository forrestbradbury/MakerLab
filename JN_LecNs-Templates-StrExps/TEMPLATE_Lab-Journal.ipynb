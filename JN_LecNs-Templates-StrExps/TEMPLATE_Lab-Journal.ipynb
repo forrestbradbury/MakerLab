{
 "cells": [
  {
   "cell_type": "markdown",
   "metadata": {},
   "source": [
    "Jupyter Notebook Template:  <span style=\"font-size:larger;color:blue\">**Open-Inquiry Project Lab Journal**</span>\n",
    "\n",
    "This document was developed as part of a collection to support open-inquiry physical science experiments in Bachelor's level lab courses.  \n",
    "\n",
    "<a rel=\"license\" href=\"http://creativecommons.org/licenses/by-nc-sa/4.0/\"><img alt=\"Creative Commons License\" style=\"border-width:0\" src=\"https://i.creativecommons.org/l/by-nc-sa/4.0/88x31.png\" /></a><br />This work is licensed under a <a rel=\"license\" href=\"http://creativecommons.org/licenses/by-nc-sa/4.0/\">Creative Commons Attribution-NonCommercial-ShareAlike 4.0 International License</a>.  Everyone is free to reuse or adapt the materials under the conditions that they give appropriate attribution, do not use them nor derivatives of them for commercial purposes, and that any distributed or re-published adaptations are given the same Creative Commons License.\n",
    "\n",
    "Freek Pols (https://orcid.org/0000-0002-4690-6460) helped with the conception and development of these materials.  \n",
    "\n",
    "Forrest Bradbury (https://orcid.org/0000-0001-8412-4091) of Amsterdam University College is responsible for this material and can be reached by email:  forrestbradbury (\"AT\") gmail.com\n",
    "******"
   ]
  },
  {
   "cell_type": "markdown",
   "metadata": {},
   "source": [
    "***********\n",
    "**NAME**  \n",
    "************\n",
    "**insert your name here**\n",
    "*************"
   ]
  },
  {
   "cell_type": "markdown",
   "metadata": {},
   "source": [
    "A Lab Journal is a living document which records your experimental ideas, methods, progress, and results.  You should use this document to make and record your plans and observations and it should be kept up-to-date.  You should not delete earlier inferior methods and results, but rather follow your earlier Lab Journal entries with observations and ideas for improvement in subsequent trials.  \n",
    "\n",
    "Please refer to your course's list of assessments for information about how this Lab Journal will be graded.\n",
    "\n",
    "\n",
    "><span style=\"font-size:larger;color:brown\">**Lab Journal Sections:**</span>\n",
    ">\n",
    ">\n",
    ">- General information\n",
    ">\n",
    ">\n",
    ">- Ethical and Safety considerations\n",
    ">\n",
    ">\n",
    ">- B, I \\& P:\n",
    ">     - Back-of-the-napkin calculations\n",
    ">     - Initial tests\n",
    ">     - Pilot experiments\n",
    ">\n",
    ">\n",
    ">- Methods\n",
    ">\n",
    ">\n",
    ">- Implementation\n",
    ">\n",
    ">\n",
    ">- Data analysis\n",
    ">\n",
    ">\n",
    ">- Discussion\n",
    ">\n",
    ">\n",
    ">- Conclusions\n",
    ">\n",
    ">\n",
    ">- Additional notes, remarks, explanations, etc\n",
    ">"
   ]
  },
  {
   "cell_type": "markdown",
   "metadata": {},
   "source": [
    "***\n",
    "# General information\n",
    "\n",
    "\n",
    "If you need a reminder about creating, editing, or running cells in Jupyter Notebook - and especially using the Markdown text-editing language, please refer to the earlier lecture note file:  [LN1_JupyterNotebook-and-Markdown](LN1_JupyterNotebook-and-Markdown.ipynb)\n"
   ]
  },
  {
   "cell_type": "markdown",
   "metadata": {},
   "source": [
    "**Project title:**  \n",
    "insert here\n",
    "\n",
    "**Semester and year:**  \n",
    "insert here\n",
    "\n",
    "**If more than one open-inquiry project is conducted in course, is this #1 or #2 or ...? :**  \n",
    "insert here\n",
    "\n",
    "**Partner's name:**  \n",
    "insert here\n",
    "\n",
    "**Goal of the experiment (short paragraph with background):**  \n",
    "insert here\n",
    "\n",
    "**Initial research question, which is often not the same as the final one (if not, why not?):**  \n",
    "insert here\n",
    "\n",
    "**Adapted research question (if not the same as final research question, why not?):**  \n",
    "insert here\n",
    "\n",
    "**Final research question (one sentence):**  \n",
    "insert here\n",
    "\n",
    "**Expectations or hypothesis (quantitatively related to a mathematical/statistical model) for final research question:**  \n",
    "insert here\n",
    "\n",
    "**Level of measurement accuracy(ies) required to answer final reseach question:**  \n",
    "insert here\n",
    "\n"
   ]
  },
  {
   "cell_type": "code",
   "execution_count": 1,
   "metadata": {},
   "outputs": [],
   "source": [
    "### import necessary Python libraries for use in calculations and data analysis below\n",
    "\n",
    "import matplotlib.pyplot as plt\n",
    "import numpy as np\n",
    "import math\n",
    "from lmfit import models\n",
    "\n",
    "### there are many more that are useful for specific procedures, \n",
    "### but they can be imported below when necessary\n",
    "\n",
    "\n",
    "### examples of extra libraries:\n",
    "\n",
    "#from uncertainties import ufloat\n",
    "#from uncertainties.umath import *  # sin(), etc.\n",
    "#import serial             # library to read from & write to serial port \n",
    "#from time import strftime # strftime() gives timestamp str for unique file naming\n",
    "#from pathlib import Path  # Path() formats pathnames to suit your operating system\n"
   ]
  },
  {
   "cell_type": "markdown",
   "metadata": {},
   "source": [
    "****\n",
    "# Procedures related to ethical and safety concerns:\n",
    "\n",
    "<span style=\"font-size:larger;color:red\">**Before constructing and conducting experiments, they must be deemed safe and ethically sound.  Any potential issues should be discussed with your instructors.**</span>  \n",
    "\n",
    "<span style=\"font-size:larger;color:red\">**Please know that ethical concerns or potentially unsafe practices are a valid excuse for any of the project team members to halt your experimental procedures at any time, even if your instructors did not previously recognize the concerns.  Since you will be conducting experiments of your own design outside of a supervised setting, the final responsibilty lies in your hands.**</span>\n",
    "\n"
   ]
  },
  {
   "cell_type": "markdown",
   "metadata": {},
   "source": [
    "insert here your procedures and considerations related to ethical and/or safety concerns\n",
    "\n",
    "\n"
   ]
  },
  {
   "cell_type": "markdown",
   "metadata": {},
   "source": [
    "****\n",
    "# B, I \\& P:\n",
    "\n",
    "****\n",
    "\n",
    "## Back-of-the-napkin calculations  \n",
    "\n",
    "This is often related to feasibility:  What is the expected effect size that you'll be trying to measure?  Will the measurement range of your equipment allow you to distinguish it?  Does the expected measurement uncertainty allow you to resolve this expected effect?\n",
    "\n",
    "## Initial tests  \n",
    "\n",
    "Do your sensors work they way you expected?  Can you confirm (or even improve upon) their calibration?  Take some simpler measurements where you know what to expect and confirm their functionality.  If there are differences, what are they?  and can you fix them?\n",
    "\n",
    "\n",
    "## Pilot experiments\n",
    "\n",
    "Try some initial measurements which probe your research question to get an idea of Type A uncertainties and whether your fixed parameter values and range of values for the independent variable are suitable and/or optimal for your experimental goals and for minimizing uncertainties.\n",
    "\n",
    "****\n",
    "\n",
    "As you work toward developing an experimental plan (see methods section below), these back-of-the-napkin calculations, initial tests, and pilot experiments will allow you to confirm the feasibility of your plans and estimate your experimental uncertainties.\n",
    "\n",
    "You may not need to perform all three of these for a given project, but please show proof of and your conclusions from doing at least two of them:\n",
    " \n"
   ]
  },
  {
   "cell_type": "markdown",
   "metadata": {},
   "source": [
    "I. **Descriptions and reasoning for conducting one of the above:**  \n",
    "insert here"
   ]
  },
  {
   "cell_type": "code",
   "execution_count": null,
   "metadata": {},
   "outputs": [],
   "source": [
    "## I.  calculations (if applicable) associated with one of the above:\n",
    "\n",
    "\n"
   ]
  },
  {
   "cell_type": "markdown",
   "metadata": {},
   "source": [
    "I. **Results and Conclusions from one of the above:**  \n",
    "insert here"
   ]
  },
  {
   "cell_type": "markdown",
   "metadata": {},
   "source": [
    "***\n",
    "II. **Descriptions and reasoning for conducting one of the above:**  \n",
    "insert here"
   ]
  },
  {
   "cell_type": "code",
   "execution_count": null,
   "metadata": {},
   "outputs": [],
   "source": [
    "## II. calculations (if applicable) associated with one of the above:\n",
    "\n",
    "\n"
   ]
  },
  {
   "cell_type": "markdown",
   "metadata": {},
   "source": [
    "II. **Results and Conclusions from one of the above:**  \n",
    "insert here"
   ]
  },
  {
   "cell_type": "markdown",
   "metadata": {},
   "source": [
    "*****\n",
    "# Methods\n",
    "\n",
    "This section is to be completed before the final measurements begin.  As mentioned above, back-of-the-napkin calculations, initial tests, and pilot experiments will be useful to finalize your plans below.\n",
    " \n"
   ]
  },
  {
   "cell_type": "markdown",
   "metadata": {},
   "source": [
    "**Short overview of measurement method(s):**  \n",
    "insert here\n",
    "  \n",
    "**Explanation and/or relevant theory for measurement method(s):**    \n",
    "insert here\n",
    "\n",
    "**Measurement instruments \\& Settings:**    \n",
    "insert here\n",
    "\n",
    "**Setup (drawing or picture):**    \n",
    "insert here\n",
    "\n",
    "**Independent variable(s):**    \n",
    "insert here\n",
    "\n",
    "**Dependent variable:**    \n",
    "insert here\n",
    "\n",
    "**Controlled parameters:**    \n",
    "insert here\n",
    "\n",
    "**Procedure (order of operations):**    \n",
    "insert here\n",
    "\n",
    "**Expected accuracy (uncertainty):**  \n",
    "insert here\n",
    "\n",
    "**Other notes:**    \n",
    "insert here\n",
    "\n"
   ]
  },
  {
   "cell_type": "markdown",
   "metadata": {},
   "source": [
    "***\n",
    "# Implementation\n",
    "\n",
    "Raw data should be saved to file and read into Python.  **The raw data file(s) should be saved and submitted along with your lab journal!**\n",
    "\n",
    "*If you have few enough data to easily manually type into the Python code box below, then you may do that instead of saving them to a separate file.  However, if you have more than 30 data points, setting up a routine for collecting, saving, and uploading will be faster (and will prevent typing mistakes!)  For instance, you can create data arrays and files by directly reading the Arduino's serial port data with Python code, or having the Arduino save data onto an SD memory card.  Please be in touch if you need assistance with this.*\n",
    "\n",
    "As you take data, please record any interesting or relevant observations/conditions.  \n"
   ]
  },
  {
   "cell_type": "markdown",
   "metadata": {},
   "source": [
    "**Name(s) of raw data file(s):**  \n",
    "insert here (and remember to zip together with this file or attach separately)\n"
   ]
  },
  {
   "cell_type": "code",
   "execution_count": 3,
   "metadata": {},
   "outputs": [],
   "source": [
    "# Upload raw data into np.arrays  (see example code below)\n",
    "# Explain the names of variables in commented code\n"
   ]
  },
  {
   "cell_type": "code",
   "execution_count": null,
   "metadata": {},
   "outputs": [],
   "source": [
    "# EXAMPLE CODE FOR UPLOADING DATA INTO PYTHON FROM FILE:\n",
    "\n",
    "from pathlib import Path  # pathlib.Path formats pathnames to suit your operating system\n",
    "\n",
    "# declare the appropriate filename as a string:\n",
    "filename = \"mydatafile.txt\"   # replace \"mydatafile.txt\" with your own file's name\n",
    "\n",
    "# your data file needs to be in a subfolder called \"datafolder\" for this to work:\n",
    "sub_folder = Path(\"datafolder/\")     # set name of sub-directory where data is to be stored\n",
    "file_path = sub_folder / filename    # file path is combination of filename and its folder\n",
    "\n",
    "array = np.loadtxt(file_path, delimiter='\\t') # loads file's data (tab-separated) into \"array\"\n",
    "                                              # for comma-separated-value data:  delimiter=','\n",
    "# let's assume \"array\" has 2 columns for the independent and dependent variables\n",
    "# here, we create new arrays for each of them:\n",
    "my_indep_var = array[:,0]    # [:,0] means values from \":\"=ALL rows and 0th (first) column\n",
    "my_dep_var   = array[:,1]    # [:,1] means values from \":\"=ALL rows and 1th (second) column\n",
    "\n",
    "##OR, if the data files begin with text headers, we can ignore the first row of text using:\n",
    "#my_indep_var = array[1:,0]    # [1:,0] means values from \"1:\"=ALL except 0th row\n",
    "#my_dep_var   = array[1:,1]    # [1:,1] means values from \"1:\"=ALL except 0th row"
   ]
  },
  {
   "cell_type": "markdown",
   "metadata": {},
   "source": [
    "**Observations:**  \n",
    "insert here\n",
    "\n",
    "**Other notes or relevant conditions:**  \n",
    "insert here\n",
    "\n"
   ]
  },
  {
   "cell_type": "markdown",
   "metadata": {},
   "source": [
    "***\n",
    "# Data analysis\n",
    "\n"
   ]
  },
  {
   "cell_type": "markdown",
   "metadata": {},
   "source": [
    "**Description of processing of raw data into scientific evidence:**  \n",
    "insert descriptive text here and the Python code below\n"
   ]
  },
  {
   "cell_type": "code",
   "execution_count": null,
   "metadata": {},
   "outputs": [],
   "source": [
    "#Data processing and analysis:\n",
    "\n"
   ]
  },
  {
   "cell_type": "code",
   "execution_count": null,
   "metadata": {},
   "outputs": [],
   "source": [
    "#Data processing and analysis:\n",
    "\n"
   ]
  },
  {
   "cell_type": "code",
   "execution_count": 2,
   "metadata": {},
   "outputs": [],
   "source": [
    "#Data visualization (creating figures):\n",
    "\n"
   ]
  },
  {
   "cell_type": "code",
   "execution_count": null,
   "metadata": {},
   "outputs": [],
   "source": [
    "#Data visualization (creating figures):\n",
    "\n"
   ]
  },
  {
   "cell_type": "markdown",
   "metadata": {},
   "source": [
    "**Describing the pattern in the processed data:**  \n",
    "insert descriptive text here\n"
   ]
  },
  {
   "cell_type": "markdown",
   "metadata": {},
   "source": [
    "**List and descriptions of measurement uncertainties:**  \n",
    "insert descriptive text here\n",
    "\n"
   ]
  },
  {
   "cell_type": "code",
   "execution_count": null,
   "metadata": {},
   "outputs": [],
   "source": [
    "#Calculations of measurement uncertainties and uncertainty propagation for the final results.\n",
    "\n"
   ]
  },
  {
   "cell_type": "markdown",
   "metadata": {},
   "source": [
    "**Uncertainty comparison via uncertainty budget:**  \n",
    "insert descriptive text here\n",
    "\n",
    "*NOTE:  the raw text cell below contains example Markdown script for constructing tables for your uncertainty budgets.  Just convert the cell into a Markdown cell and fill in the relevant names and uncertainty estimates for one or two budgets related to your own measurements.*\n"
   ]
  },
  {
   "cell_type": "raw",
   "metadata": {},
   "source": [
    "For some measurand denoted by $x$, there are often several sources of measurement uncertainty.  This example table lists some possibilities:\n",
    "\n",
    "| uncertainty type | estimate of standard uncertainty\n",
    "|--- |----------\n",
    "| calibration  | $u_{x-cal}$ \n",
    "| type A (repeated measurements)  | $u_{x-typA}$ \n",
    "| reading  | $u_{x-read}$ \n",
    "| ...  | ... \n",
    "| $x$'s total uncertainty  | \\begin{align} u_{x-total} &= \\\\ &=\\sqrt{u_{x-cal}^2+u_{x-typA}^2+u_{x-read}^2+...}\\end{align} \n",
    "\n",
    "For the function $f(x,y,z,...)$ that depends on measurands $x$, $y$, $z$, etc, we propagate all the uncertainties to obtain an uncertainty budget table as follows:\n",
    "\n",
    "| variable | propagated uncertainty contribution, in $f$'s units\n",
    "|--- |----------\n",
    "| $x$  | $\\left|\\frac{\\partial f}{\\partial x}\\ u_x \\right|$ \n",
    "| $y$  | $\\left|\\frac{\\partial f}{\\partial y}\\ u_y \\right|$ \n",
    "| $z$  | $\\left|\\frac{\\partial f}{\\partial z}\\ u_z \\right|$ \n",
    "| ...  | ... \n",
    "| $f$'s total propagated uncertainty   | $u_f \\approx \\sqrt{ \\left(\\frac{\\partial f}{\\partial x}\\ u_x \\right)^2 + \\left(\\frac{\\partial f}{\\partial y}\\ u_y \\right)^2 + \\left(\\frac{\\partial f}{\\partial z}\\ u_z \\right)^2 + ... }$ \n"
   ]
  },
  {
   "cell_type": "markdown",
   "metadata": {},
   "source": [
    "**Additional notes on data analysis:**  \n",
    "insert here\n"
   ]
  },
  {
   "cell_type": "markdown",
   "metadata": {},
   "source": [
    "***\n",
    "# Discussion\n",
    "\n",
    "\n",
    "Explain here **(in detail!)** how your data and your analysis of them help in achieving (or not) your experimental goals.  How can you quantitatively answer your research question?  What are the implications?  Have you uncovered other relevant questions along the way?  How does measurement uncertainty limit your answers/observations?"
   ]
  },
  {
   "cell_type": "markdown",
   "metadata": {},
   "source": [
    "**Discussion points:**  \n",
    "insert here"
   ]
  },
  {
   "cell_type": "code",
   "execution_count": 3,
   "metadata": {},
   "outputs": [],
   "source": [
    "#Additional calculations to support the discussion (when necessary)\n",
    "\n"
   ]
  },
  {
   "cell_type": "markdown",
   "metadata": {},
   "source": [
    "**Discussion points:**  \n",
    "insert here"
   ]
  },
  {
   "cell_type": "markdown",
   "metadata": {},
   "source": [
    "****\n",
    "# Conclusion\n",
    "\n",
    "Here, briefly summarize (one paragraph) the outcomes of your experimental project with respect to your experimental goals and research question."
   ]
  },
  {
   "cell_type": "markdown",
   "metadata": {},
   "source": [
    "**Conclusions:**  \n",
    "insert here\n"
   ]
  },
  {
   "cell_type": "markdown",
   "metadata": {},
   "source": [
    "***\n",
    "# Additional notes, remarks, explanations, etc\n"
   ]
  },
  {
   "cell_type": "markdown",
   "metadata": {},
   "source": [
    "**-**  \n",
    "insert here"
   ]
  }
 ],
 "metadata": {
  "kernelspec": {
   "display_name": "Python 3",
   "language": "python",
   "name": "python3"
  },
  "language_info": {
   "codemirror_mode": {
    "name": "ipython",
    "version": 3
   },
   "file_extension": ".py",
   "mimetype": "text/x-python",
   "name": "python",
   "nbconvert_exporter": "python",
   "pygments_lexer": "ipython3",
   "version": "3.7.4"
  },
  "toc": {
   "base_numbering": 1,
   "nav_menu": {},
   "number_sections": true,
   "sideBar": true,
   "skip_h1_title": false,
   "title_cell": "Table of Contents",
   "title_sidebar": "Contents",
   "toc_cell": false,
   "toc_position": {
    "height": "calc(100% - 180px)",
    "left": "10px",
    "top": "150px",
    "width": "262px"
   },
   "toc_section_display": true,
   "toc_window_display": false
  }
 },
 "nbformat": 4,
 "nbformat_minor": 2
}
