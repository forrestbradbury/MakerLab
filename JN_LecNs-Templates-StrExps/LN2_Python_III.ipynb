{
 "cells": [
  {
   "cell_type": "markdown",
   "metadata": {},
   "source": [
    "Lecture Notes document #2:  <span style=\"font-size:larger;color:blue\">**Introduction to Python Programming, Part III**</span>\n",
    "\n",
    "This document was developed as part of a collection to support open-inquiry physical science experiments in Bachelor's level lab courses.  \n",
    "\n",
    "<a rel=\"license\" href=\"http://creativecommons.org/licenses/by-nc-sa/4.0/\"><img alt=\"Creative Commons License\" style=\"border-width:0\" src=\"https://i.creativecommons.org/l/by-nc-sa/4.0/88x31.png\" /></a><br />This work is licensed under a <a rel=\"license\" href=\"http://creativecommons.org/licenses/by-nc-sa/4.0/\">Creative Commons Attribution-NonCommercial-ShareAlike 4.0 International License</a>.  Everyone is free to reuse or adapt the materials under the conditions that they give appropriate attribution, do not use them nor derivatives of them for commercial purposes, and that any distributed or re-published adaptations are given the same Creative Commons License.\n",
    "\n",
    "A list of contributors can be found in the Acknowledgements section.  Forrest Bradbury (https://orcid.org/0000-0001-8412-4091) of Amsterdam University College is responsible for this material and can be reached by email:  forrestbradbury (\"AT\") gmail.com\n",
    "******"
   ]
  },
  {
   "cell_type": "markdown",
   "metadata": {},
   "source": [
    "This is the third Jupyter Notebook document in a series of four which serve as a brief introduction to programming in <span style=\"font-size:larger;color:brown\">**Python**</span>.  \n",
    "\n",
    "<span style=\"color:red\">**This material is not intended to substitute a good introductory programming course, but rather gives an overview of Python coding tricks that might be encountered in and utilized for data analysis methods.**</span>\n",
    "\n",
    "><span style=\"font-size:larger;color:brown\">**Components of Part III.**</span>\n",
    ">\n",
    ">- Compound data types:  tuples, ranges, lists, sets, dictionaries\n",
    ">\n",
    ">\n",
    ">- Iterations:  `for` loops and Comprehensions\n",
    ">\n",
    ">\n",
    ">- EXERCISE answers\n",
    ">\n",
    ">\n",
    ">- Acknowledgements\n",
    ">\n",
    ">\n",
    ">****************\n",
    ">\n",
    ">(please read and work through these Jupyter Notebook lecture notes to learn some useful programming tricks and note that recommended exercises are flagged below with:  <span style=\"font-size:larger;color:orange\">**\"EXERCISE\"**</span> )\n",
    ">\n",
    ">****************"
   ]
  },
  {
   "cell_type": "markdown",
   "metadata": {},
   "source": [
    "# Compound data types and iterations\n",
    "\n",
    "- tuples:  ( use parentheses )\n",
    "- `for` loops\n",
    "- range\n",
    "- lists:  [ use square brackets ]\n",
    "- sets:  { use curly brackets }\n",
    "- dictionaries  { keys and colons :  }\n",
    "- Comprehensions\n",
    "\n",
    "Note that you are unlikely to need all of the above compound data types in a Maker Lab project, but if you come across data bundled in **(parentheses)**, **[square brackets]**, or **{curly brackets}**, these sections will help you understand what that means and how to work with them!  \n",
    "\n",
    "Further, `for` loops and comprehensions are powerful and common ways to iterate your code commands and deserve a close look at this time."
   ]
  },
  {
   "cell_type": "markdown",
   "metadata": {},
   "source": [
    "****************\n",
    "In the first Jupyter Notebook file, the most basic types of information were introduced and explained (including ints, floats, strings, booleans).  Here and in some later sections, we will see that collections/groups/sequences of these chunks of information can be arranged in different formats. \n",
    "\n",
    "## Tuples:  ( use parentheses )\n",
    "\n",
    "Tuples contain a sequence of elements of arbitrary length, that are bound together as a unit into a single new element. You make a tuple simply by listing the elements you want, separated by commas. \n",
    "\n",
    "Tuples are often written in parentheses; while these are optional, it's good practice to include them to avoid confusion."
   ]
  },
  {
   "cell_type": "code",
   "execution_count": 12,
   "metadata": {},
   "outputs": [
    {
     "data": {
      "text/plain": [
       "('Home', 'Bird', 3247934)"
      ]
     },
     "execution_count": 12,
     "metadata": {},
     "output_type": "execute_result"
    }
   ],
   "source": [
    "a = (\"Home\", \"Bird\", 3247934)\n",
    "a"
   ]
  },
  {
   "cell_type": "markdown",
   "metadata": {},
   "source": [
    "To be recognisable as a tuple, the expression needs to contain at least one comma and/or needs to be enclosed in parentheses.  See the examples and counter-examples below: "
   ]
  },
  {
   "cell_type": "code",
   "execution_count": 8,
   "metadata": {},
   "outputs": [
    {
     "data": {
      "text/plain": [
       "tuple"
      ]
     },
     "execution_count": 8,
     "metadata": {},
     "output_type": "execute_result"
    }
   ],
   "source": [
    "type(()) # This is the empty tuple with no elements!  But still a tuple."
   ]
  },
  {
   "cell_type": "code",
   "execution_count": 17,
   "metadata": {
    "scrolled": true
   },
   "outputs": [
    {
     "data": {
      "text/plain": [
       "int"
      ]
     },
     "execution_count": 17,
     "metadata": {},
     "output_type": "execute_result"
    }
   ],
   "source": [
    "type((8)) # Oops, the parentheses around the 8 don't look tuple-y enough for Python"
   ]
  },
  {
   "cell_type": "code",
   "execution_count": 4,
   "metadata": {},
   "outputs": [
    {
     "data": {
      "text/plain": [
       "tuple"
      ]
     },
     "execution_count": 4,
     "metadata": {},
     "output_type": "execute_result"
    }
   ],
   "source": [
    "type((8,)) # So a tuple with one value is written like this"
   ]
  },
  {
   "cell_type": "markdown",
   "metadata": {},
   "source": [
    "You can index tuples in the same way you can index strings, using square brackets. Remember that Python starts counting at zero!"
   ]
  },
  {
   "cell_type": "code",
   "execution_count": 5,
   "metadata": {},
   "outputs": [
    {
     "data": {
      "text/plain": [
       "'Bird'"
      ]
     },
     "execution_count": 5,
     "metadata": {},
     "output_type": "execute_result"
    }
   ],
   "source": [
    "a[1]"
   ]
  },
  {
   "cell_type": "markdown",
   "metadata": {},
   "source": [
    "Since tuples are Python values like any other, you can stick tuples inside other tuples:"
   ]
  },
  {
   "cell_type": "code",
   "execution_count": 14,
   "metadata": {},
   "outputs": [
    {
     "data": {
      "text/plain": [
       "(('Home', 'Bird', 3247934), ('Tree', 'Dog', 129831))"
      ]
     },
     "execution_count": 14,
     "metadata": {},
     "output_type": "execute_result"
    }
   ],
   "source": [
    "b = ( a , (\"Tree\", \"Dog\",   129831))\n",
    "b"
   ]
  },
  {
   "cell_type": "markdown",
   "metadata": {},
   "source": [
    "You can ask for the length of a tuple using the function `len`. Think before you try it out: what is the length of the tuple `b`?"
   ]
  },
  {
   "cell_type": "code",
   "execution_count": null,
   "metadata": {},
   "outputs": [],
   "source": [
    "len(b)"
   ]
  },
  {
   "cell_type": "markdown",
   "metadata": {},
   "source": [
    "<span style=\"font-size:larger;color:orange\">**EXERCISE:**</span>"
   ]
  },
  {
   "cell_type": "code",
   "execution_count": 112,
   "metadata": {},
   "outputs": [],
   "source": [
    "# Write a function that takes as input an arbitrary tuple, and outputs its\n",
    "# contents with one item per line, like so:\n",
    "#\n",
    "# Item number 1 is \"hello\".\n",
    "# Item number 2 is True.\n",
    "# ...\n",
    "#\n",
    "# Use a while-loop with the print() function inside it.  \n",
    "# Look back at previous Jupyter Notebook files as needed.\n",
    "\n",
    "\n",
    "\n",
    "\n"
   ]
  },
  {
   "cell_type": "markdown",
   "metadata": {},
   "source": [
    "You can also use tuples on the *left hand side* of an assignment operation. That's handy if you have a tuple and you wish to unpack it into separate variables:"
   ]
  },
  {
   "cell_type": "code",
   "execution_count": 10,
   "metadata": {},
   "outputs": [
    {
     "data": {
      "text/plain": [
       "True"
      ]
     },
     "execution_count": 10,
     "metadata": {},
     "output_type": "execute_result"
    }
   ],
   "source": [
    "a = (\"hello\", True, 42)\n",
    "(a1,a2,a3) = a\n",
    "a2"
   ]
  },
  {
   "cell_type": "markdown",
   "metadata": {},
   "source": [
    "This allows a useful trick: swapping two variables conveniently:"
   ]
  },
  {
   "cell_type": "code",
   "execution_count": 11,
   "metadata": {},
   "outputs": [
    {
     "name": "stdout",
     "output_type": "stream",
     "text": [
      "a= 4 b= 3\n"
     ]
    }
   ],
   "source": [
    "a = 3\n",
    "b = 4\n",
    "(a,b) = (b,a) # swap!\n",
    "print(\"a=\",a, \"b=\",b)"
   ]
  },
  {
   "cell_type": "markdown",
   "metadata": {},
   "source": [
    "## `for` loops\n",
    "\n",
    "We often need to do something with every item in some list or sequence. For example, each character in a string, or each item in a tuple. Such objects are called *Iterable*.\n",
    "\n",
    "We can iterate over all items in a tuple with `while`, like above.\n",
    "\n",
    "But you need to do this kind of thing *so often* in programming that there is a special mechanism to do it, using the keyword `for`. A `for`-loop looks like this:\n",
    "\n",
    "```\n",
    "for <variable> in <iterable object>:\n",
    "    # do stuff with <variable>\n",
    "    # ...\n",
    "```\n",
    "\n",
    "Used with a string, `for` allows us to do something with every letter. With a tuple, we can do something with every element."
   ]
  },
  {
   "cell_type": "code",
   "execution_count": 21,
   "metadata": {},
   "outputs": [
    {
     "name": "stdout",
     "output_type": "stream",
     "text": [
      "Here's a letter from the given string: h\n",
      "Here's a letter from the given string: e\n",
      "Here's a letter from the given string: l\n",
      "Here's a letter from the given string: l\n",
      "Here's a letter from the given string: o\n"
     ]
    }
   ],
   "source": [
    "for i in \"hello\":\n",
    "    print(\"Here's a letter from the given string:\", i)"
   ]
  },
  {
   "cell_type": "code",
   "execution_count": 20,
   "metadata": {},
   "outputs": [
    {
     "name": "stdout",
     "output_type": "stream",
     "text": [
      "Here's an element from the given tuple: hello\n",
      "Here's an element from the given tuple: True\n",
      "Here's an element from the given tuple: 42\n"
     ]
    }
   ],
   "source": [
    "for i in (\"hello\", True, 42):\n",
    "    print(\"Here's an element from the given tuple:\", i)"
   ]
  },
  {
   "cell_type": "markdown",
   "metadata": {},
   "source": [
    "<span style=\"font-size:larger;color:orange\">**EXERCISE:**</span>"
   ]
  },
  {
   "cell_type": "code",
   "execution_count": 29,
   "metadata": {},
   "outputs": [],
   "source": [
    "# Write a for loop to calculate the sum of the numbers in this tuple:\n",
    "\n",
    "t = (0,1,1,2,3,5,8)\n",
    "\n",
    "\n",
    "\n",
    "\n"
   ]
  },
  {
   "cell_type": "markdown",
   "metadata": {},
   "source": [
    "## Range\n",
    "\n",
    "It is often very useful to loop over a sequence of increasing or decreasing numbers. To this end, Python has an additional iterable type, called a `range`. It represents a sequence of numbers with regular increments.  And, to create this type, we use a function of the same name `range()` :\n",
    "\n",
    "```\n",
    "range(<first number to include>, <first number to exclude>, <increment>)\n",
    "```\n",
    "\n",
    "You can omit the increment, which is 1 by default, and you can also omit the first number to include, which is 0 by default. (Really, it works the same way we saw before, with indexing a string or tuple.) So let's try it out:"
   ]
  },
  {
   "cell_type": "code",
   "execution_count": 16,
   "metadata": {},
   "outputs": [
    {
     "data": {
      "text/plain": [
       "range(2, 10, 2)"
      ]
     },
     "execution_count": 16,
     "metadata": {},
     "output_type": "execute_result"
    }
   ],
   "source": [
    "a = range(2,10,2) # start at 2, end BEFORE 10, go in steps of 2\n",
    "a"
   ]
  },
  {
   "cell_type": "code",
   "execution_count": 17,
   "metadata": {},
   "outputs": [
    {
     "data": {
      "text/plain": [
       "range"
      ]
     },
     "execution_count": 17,
     "metadata": {},
     "output_type": "execute_result"
    }
   ],
   "source": [
    "type(a)"
   ]
  },
  {
   "cell_type": "markdown",
   "metadata": {},
   "source": [
    "This value is of a new type: a `range`. It is used to make regular sequences of numbers, usually for use in `for` loops.\n"
   ]
  },
  {
   "cell_type": "code",
   "execution_count": 18,
   "metadata": {},
   "outputs": [
    {
     "name": "stdout",
     "output_type": "stream",
     "text": [
      "2\n",
      "4\n",
      "6\n",
      "8\n"
     ]
    }
   ],
   "source": [
    "for i in a:\n",
    "    print(i)"
   ]
  },
  {
   "cell_type": "markdown",
   "metadata": {},
   "source": [
    "But remember how you could change things to another type by using a function with the same name of that type?  This can turn a range into a tuple:"
   ]
  },
  {
   "cell_type": "code",
   "execution_count": 19,
   "metadata": {},
   "outputs": [
    {
     "data": {
      "text/plain": [
       "(2, 4, 6, 8)"
      ]
     },
     "execution_count": 19,
     "metadata": {},
     "output_type": "execute_result"
    }
   ],
   "source": [
    "tuple(range(2,10,2))"
   ]
  },
  {
   "cell_type": "markdown",
   "metadata": {},
   "source": [
    "But, it doesn't work for turning a tuple into a range, because the range function already has the definition introduced above!"
   ]
  },
  {
   "cell_type": "code",
   "execution_count": 31,
   "metadata": {},
   "outputs": [
    {
     "ename": "TypeError",
     "evalue": "'tuple' object cannot be interpreted as an integer",
     "output_type": "error",
     "traceback": [
      "\u001b[1;31m---------------------------------------------------------------------------\u001b[0m",
      "\u001b[1;31mTypeError\u001b[0m                                 Traceback (most recent call last)",
      "\u001b[1;32m<ipython-input-31-bff1021a9b44>\u001b[0m in \u001b[0;36m<module>\u001b[1;34m\u001b[0m\n\u001b[1;32m----> 1\u001b[1;33m \u001b[0mrange\u001b[0m\u001b[1;33m(\u001b[0m\u001b[1;33m(\u001b[0m\u001b[1;36m1\u001b[0m\u001b[1;33m,\u001b[0m\u001b[1;36m2\u001b[0m\u001b[1;33m,\u001b[0m\u001b[1;36m3\u001b[0m\u001b[1;33m,\u001b[0m\u001b[1;36m4\u001b[0m\u001b[1;33m,\u001b[0m\u001b[1;36m5\u001b[0m\u001b[1;33m,\u001b[0m\u001b[1;36m6\u001b[0m\u001b[1;33m,\u001b[0m\u001b[1;36m7\u001b[0m\u001b[1;33m)\u001b[0m\u001b[1;33m)\u001b[0m\u001b[1;33m\u001b[0m\u001b[1;33m\u001b[0m\u001b[0m\n\u001b[0m",
      "\u001b[1;31mTypeError\u001b[0m: 'tuple' object cannot be interpreted as an integer"
     ]
    }
   ],
   "source": [
    "range((1,2,3,4,5,6,7))"
   ]
  },
  {
   "cell_type": "markdown",
   "metadata": {},
   "source": [
    "Ranges are often used in `for` loops a lot because without them, you don't know what item you're at. For example, in the code below we can't say which item we're printing:"
   ]
  },
  {
   "cell_type": "code",
   "execution_count": 20,
   "metadata": {},
   "outputs": [
    {
     "name": "stdout",
     "output_type": "stream",
     "text": [
      "Here's an item: hello\n",
      "Here's an item: True\n",
      "Here's an item: 42\n"
     ]
    }
   ],
   "source": [
    "a = (\"hello\", True, 42)\n",
    "for s in a:\n",
    "    print(\"Here's an item:\", s)"
   ]
  },
  {
   "cell_type": "markdown",
   "metadata": {},
   "source": [
    "Using `range` we can fix this:"
   ]
  },
  {
   "cell_type": "code",
   "execution_count": 21,
   "metadata": {},
   "outputs": [
    {
     "name": "stdout",
     "output_type": "stream",
     "text": [
      "Here is item number 0 : hello\n",
      "Here is item number 1 : True\n",
      "Here is item number 2 : 42\n"
     ]
    }
   ],
   "source": [
    "for i in range(len(a)):\n",
    "    print(\"Here is item number\", i, \":\", a[i])"
   ]
  },
  {
   "cell_type": "markdown",
   "metadata": {},
   "source": [
    "## Lists:  [ use square brackets ]\n",
    "\n",
    "Lists are very much like tuples, but there is one key difference which we'll appreciate when we attempt to change tuples."
   ]
  },
  {
   "cell_type": "code",
   "execution_count": 22,
   "metadata": {},
   "outputs": [
    {
     "ename": "TypeError",
     "evalue": "'tuple' object does not support item assignment",
     "output_type": "error",
     "traceback": [
      "\u001b[1;31m---------------------------------------------------------------------------\u001b[0m",
      "\u001b[1;31mTypeError\u001b[0m                                 Traceback (most recent call last)",
      "\u001b[1;32m<ipython-input-22-9cbee7610ba6>\u001b[0m in \u001b[0;36m<module>\u001b[1;34m()\u001b[0m\n\u001b[0;32m      1\u001b[0m \u001b[0ma\u001b[0m \u001b[1;33m=\u001b[0m \u001b[1;33m(\u001b[0m\u001b[1;36m3\u001b[0m\u001b[1;33m,\u001b[0m \u001b[1;36m6\u001b[0m\u001b[1;33m,\u001b[0m \u001b[1;36m4\u001b[0m\u001b[1;33m)\u001b[0m\u001b[1;33m\u001b[0m\u001b[0m\n\u001b[1;32m----> 2\u001b[1;33m \u001b[0ma\u001b[0m\u001b[1;33m[\u001b[0m\u001b[1;36m1\u001b[0m\u001b[1;33m]\u001b[0m \u001b[1;33m=\u001b[0m \u001b[1;36m7\u001b[0m\u001b[1;33m\u001b[0m\u001b[0m\n\u001b[0m",
      "\u001b[1;31mTypeError\u001b[0m: 'tuple' object does not support item assignment"
     ]
    }
   ],
   "source": [
    "a = (3, 6, 4)\n",
    "a[1] = 7"
   ]
  },
  {
   "cell_type": "markdown",
   "metadata": {},
   "source": [
    "You cannot change tuples after they have been created: they are **immutable**. Lists behave exactly like tuples, except that they *can* be modified.\n",
    "\n",
    "A list is constructed with square brackets instead of round brackets, or as usual, one can use the type constructor `list`."
   ]
  },
  {
   "cell_type": "code",
   "execution_count": 23,
   "metadata": {},
   "outputs": [
    {
     "data": {
      "text/plain": [
       "[3, 6, 4]"
      ]
     },
     "execution_count": 23,
     "metadata": {},
     "output_type": "execute_result"
    }
   ],
   "source": [
    "b = list(a)\n",
    "b"
   ]
  },
  {
   "cell_type": "markdown",
   "metadata": {},
   "source": [
    "Notice that lists are printed out with square brackets [ ] instead of the parentheses ( ) used for tuples!"
   ]
  },
  {
   "cell_type": "code",
   "execution_count": 24,
   "metadata": {},
   "outputs": [
    {
     "data": {
      "text/plain": [
       "[3, 7, 4]"
      ]
     },
     "execution_count": 24,
     "metadata": {},
     "output_type": "execute_result"
    }
   ],
   "source": [
    "b[1] = 7\n",
    "b"
   ]
  },
  {
   "cell_type": "code",
   "execution_count": 40,
   "metadata": {},
   "outputs": [
    {
     "name": "stdout",
     "output_type": "stream",
     "text": [
      "<class 'list'> <class 'tuple'> <class 'float'> <class 'str'> <class 'bool'>\n"
     ]
    }
   ],
   "source": [
    "# Note that one can create a list from elements using square brackets:\n",
    "c = [ 1, 4.450, \"good\", True ]\n",
    "c[0]=(0,2)    # here we replace the zeroth element (integer 1) with a tuple\n",
    "\n",
    "# then confirm \"c\" is a list and its elements' types:\n",
    "print( type(c), type(c[0]), type(c[1]), type(c[2]), type(c[3]) )"
   ]
  },
  {
   "cell_type": "markdown",
   "metadata": {},
   "source": [
    "Since lists are so much like tuples, but more powerful, the question becomes, why are tuples useful in the first place and when should I use which? \n",
    "\n",
    "The most important difference is that tuples can be stored in sets and dictionaries, which are introduced below.\n",
    "\n",
    "Also, tuples are sometimes a bit faster, and may require less memory than lists. They are more readable, since you don't have to worry that they might get modified somewhere down the line. So the rule of thumb is:\n",
    "\n",
    "**Use a tuple when you know don't need to modify, or in sets and dictionaries.**"
   ]
  },
  {
   "cell_type": "markdown",
   "metadata": {},
   "source": [
    "<span style=\"font-size:larger;color:orange\">**EXERCISE:**</span>  is the following a tuple or a list?"
   ]
  },
  {
   "cell_type": "code",
   "execution_count": 43,
   "metadata": {},
   "outputs": [],
   "source": [
    "# Check your answer using the function 'type'.\n",
    "# Is the second command to edit an element going to work?\n",
    "# Make sure you understand what's going on here!\n",
    "\n",
    "a = ([4,5],6)\n",
    "\n",
    "a[0][1]=2\n",
    "\n",
    "\n",
    "\n",
    "\n"
   ]
  },
  {
   "cell_type": "markdown",
   "metadata": {},
   "source": [
    "You can append a new item onto the right hand side of an existing list using `append`:"
   ]
  },
  {
   "cell_type": "code",
   "execution_count": 26,
   "metadata": {},
   "outputs": [
    {
     "name": "stdout",
     "output_type": "stream",
     "text": [
      "['elephant', 'trunk']\n"
     ]
    }
   ],
   "source": [
    "b = [\"elephant\"]\n",
    "b.append(\"trunk\") # extends the existing list\n",
    "print(b)"
   ]
  },
  {
   "cell_type": "markdown",
   "metadata": {},
   "source": [
    "## Sets:  { use curly brackets }\n",
    "\n",
    "There are two more kinds of compound values in Python: sets and dictionaries. Both are iterable.\n",
    "\n",
    "Lets look at sets first. A set is an **unordered** collection of distinct values. It allows for very quick insertion, deletion and lookup of new values. (In contrast, lists allow quick insertion and lookup by index, but have slow deletion and lookup by value.)\n",
    "\n",
    "One example of how sets might be used is to determine the number of distinct words in a text; or a set might contain numbers or strings with a particular property, so that you can quickly check whether some number has that property or not, by checking if it's in the set.\n",
    "\n",
    "Sets can be constructed using curly brackets { } :"
   ]
  },
  {
   "cell_type": "code",
   "execution_count": 45,
   "metadata": {},
   "outputs": [
    {
     "data": {
      "text/plain": [
       "{(3, 4), True, 'hello'}"
      ]
     },
     "execution_count": 45,
     "metadata": {},
     "output_type": "execute_result"
    }
   ],
   "source": [
    "a = {(3,4), \"hello\", (3,4), True}\n",
    "a"
   ]
  },
  {
   "cell_type": "markdown",
   "metadata": {},
   "source": [
    "Sets can also be constructed from iterable values using the type constructor:"
   ]
  },
  {
   "cell_type": "code",
   "execution_count": 28,
   "metadata": {},
   "outputs": [
    {
     "data": {
      "text/plain": [
       "{(3, 4), True, 'hello'}"
      ]
     },
     "execution_count": 28,
     "metadata": {},
     "output_type": "execute_result"
    }
   ],
   "source": [
    "set([(3,4),\"hello\",(3,4),True])    # making a set of elements from a list"
   ]
  },
  {
   "cell_type": "markdown",
   "metadata": {},
   "source": [
    "Note that the ordering of the items is lost and that only one among equal entries is retained.\n",
    "\n",
    "You can see if an item is in the set using `in`:"
   ]
  },
  {
   "cell_type": "code",
   "execution_count": 48,
   "metadata": {},
   "outputs": [
    {
     "data": {
      "text/plain": [
       "(False, True)"
      ]
     },
     "execution_count": 48,
     "metadata": {},
     "output_type": "execute_result"
    }
   ],
   "source": [
    "( 3 in a , 'hello' in a )"
   ]
  },
  {
   "cell_type": "markdown",
   "metadata": {},
   "source": [
    "Note that we saw before that `in` also worked for tuples and strings. However, testing set membership using `in` is *especially* fast, so consider using sets if you have to use `in` a lot!"
   ]
  },
  {
   "cell_type": "markdown",
   "metadata": {},
   "source": [
    "Sets are iterable, so you can use them in a `for` directly:"
   ]
  },
  {
   "cell_type": "code",
   "execution_count": 49,
   "metadata": {},
   "outputs": [
    {
     "name": "stdout",
     "output_type": "stream",
     "text": [
      "Set element: True\n",
      "Set element: (3, 4)\n",
      "Set element: hello\n"
     ]
    }
   ],
   "source": [
    "for i in a:\n",
    "    print(\"Set element:\", i)"
   ]
  },
  {
   "cell_type": "markdown",
   "metadata": {},
   "source": [
    "Note that you are given no guarantees about the order in which they appear. It may be different after Python is updated to a new version, for example. Never rely on the order :)\n",
    "\n",
    "Sets are also *mutable*. You can add items to sets and remove items using `add` and `remove`, as follows:"
   ]
  },
  {
   "cell_type": "code",
   "execution_count": 31,
   "metadata": {},
   "outputs": [
    {
     "data": {
      "text/plain": [
       "{(3, 4), True, 'hello', 'world'}"
      ]
     },
     "execution_count": 31,
     "metadata": {},
     "output_type": "execute_result"
    }
   ],
   "source": [
    "a.add(\"world\")\n",
    "a"
   ]
  },
  {
   "cell_type": "code",
   "execution_count": 32,
   "metadata": {},
   "outputs": [
    {
     "data": {
      "text/plain": [
       "{(3, 4), True, 'hello'}"
      ]
     },
     "execution_count": 32,
     "metadata": {},
     "output_type": "execute_result"
    }
   ],
   "source": [
    "a.remove(\"world\")\n",
    "a"
   ]
  },
  {
   "cell_type": "markdown",
   "metadata": {},
   "source": [
    "The size of the set can be obtained with `len`:"
   ]
  },
  {
   "cell_type": "code",
   "execution_count": 33,
   "metadata": {},
   "outputs": [
    {
     "data": {
      "text/plain": [
       "3"
      ]
     },
     "execution_count": 33,
     "metadata": {},
     "output_type": "execute_result"
    }
   ],
   "source": [
    "len(a)"
   ]
  },
  {
   "cell_type": "markdown",
   "metadata": {},
   "source": [
    "You can also use the following common set operations:"
   ]
  },
  {
   "cell_type": "code",
   "execution_count": 34,
   "metadata": {},
   "outputs": [
    {
     "data": {
      "text/plain": [
       "{1, 2, 3, 5, 7}"
      ]
     },
     "execution_count": 34,
     "metadata": {},
     "output_type": "execute_result"
    }
   ],
   "source": [
    "a = { 1, 3, 5 }\n",
    "b = { 2, 3, 7 }\n",
    "\n",
    "# set union\n",
    "a | b"
   ]
  },
  {
   "cell_type": "code",
   "execution_count": 35,
   "metadata": {},
   "outputs": [
    {
     "data": {
      "text/plain": [
       "{3}"
      ]
     },
     "execution_count": 35,
     "metadata": {},
     "output_type": "execute_result"
    }
   ],
   "source": [
    "# set intersection\n",
    "a & b"
   ]
  },
  {
   "cell_type": "code",
   "execution_count": 36,
   "metadata": {},
   "outputs": [
    {
     "data": {
      "text/plain": [
       "{1, 5}"
      ]
     },
     "execution_count": 36,
     "metadata": {},
     "output_type": "execute_result"
    }
   ],
   "source": [
    "# set difference\n",
    "a - b"
   ]
  },
  {
   "cell_type": "markdown",
   "metadata": {},
   "source": [
    "You cannot edit an element inside of a set (though you can remove it and then add the newly desired element).\n",
    "\n",
    "**Since only immutable items can be stored in a set, you cannot put a list or another set inside a set.**"
   ]
  },
  {
   "cell_type": "code",
   "execution_count": 37,
   "metadata": {},
   "outputs": [
    {
     "ename": "TypeError",
     "evalue": "unhashable type: 'set'",
     "output_type": "error",
     "traceback": [
      "\u001b[1;31m---------------------------------------------------------------------------\u001b[0m",
      "\u001b[1;31mTypeError\u001b[0m                                 Traceback (most recent call last)",
      "\u001b[1;32m<ipython-input-37-73f363cda532>\u001b[0m in \u001b[0;36m<module>\u001b[1;34m()\u001b[0m\n\u001b[1;32m----> 1\u001b[1;33m \u001b[0ma\u001b[0m\u001b[1;33m.\u001b[0m\u001b[0madd\u001b[0m\u001b[1;33m(\u001b[0m\u001b[0mb\u001b[0m\u001b[1;33m)\u001b[0m\u001b[1;33m\u001b[0m\u001b[0m\n\u001b[0m",
      "\u001b[1;31mTypeError\u001b[0m: unhashable type: 'set'"
     ]
    }
   ],
   "source": [
    "a.add(b)"
   ]
  },
  {
   "cell_type": "markdown",
   "metadata": {},
   "source": [
    "<span style=\"font-size:larger;color:orange\">**EXERCISE:**</span>"
   ]
  },
  {
   "cell_type": "code",
   "execution_count": 76,
   "metadata": {},
   "outputs": [],
   "source": [
    "# 1. create a set (here b) that contains only the string \"abracadabra\"\n",
    "# 2. create a set (here c) that contains the letters of the string \"abracadabra\".\n",
    "# 3. use this to find a way to easily count the number of distinct letters in a given string.\n",
    "# Extra:  Write it as a function so that it can be easily repeated for several strings.\n",
    "\n",
    "\n",
    "\n",
    "\n",
    "\n"
   ]
  },
  {
   "cell_type": "markdown",
   "metadata": {},
   "source": [
    "## Immutable sets: `frozenset()`\n",
    "\n",
    "Sets cannot be stored in other sets because the elements are immutable (can be added or removed, but not edited *in situ*). For this reason, Python also offers another type, `frozenset`, that's the same as set, except immutable, and can thus be placed in other sets.\n",
    "\n",
    "While a list and a tuple of the same values do not count as \"equal\", a frozenset and a set of the same values do:"
   ]
  },
  {
   "cell_type": "code",
   "execution_count": 39,
   "metadata": {},
   "outputs": [
    {
     "name": "stdout",
     "output_type": "stream",
     "text": [
      "list equals tuple    : False\n",
      "set  equals frozenset: True\n"
     ]
    }
   ],
   "source": [
    "print(\"list equals tuple    :\", [3,\"boo\"] == (3, \"boo\"))\n",
    "print(\"set  equals frozenset:\", {3,\"boo\"} == frozenset({\"boo\", 3}))"
   ]
  },
  {
   "cell_type": "markdown",
   "metadata": {},
   "source": [
    "But you cannot add new values to it:"
   ]
  },
  {
   "cell_type": "code",
   "execution_count": 40,
   "metadata": {},
   "outputs": [
    {
     "ename": "AttributeError",
     "evalue": "'frozenset' object has no attribute 'add'",
     "output_type": "error",
     "traceback": [
      "\u001b[1;31m---------------------------------------------------------------------------\u001b[0m",
      "\u001b[1;31mAttributeError\u001b[0m                            Traceback (most recent call last)",
      "\u001b[1;32m<ipython-input-40-0f0ab2a60b53>\u001b[0m in \u001b[0;36m<module>\u001b[1;34m()\u001b[0m\n\u001b[1;32m----> 1\u001b[1;33m \u001b[0mfrozenset\u001b[0m\u001b[1;33m(\u001b[0m\u001b[1;33m{\u001b[0m\u001b[1;36m3\u001b[0m\u001b[1;33m,\u001b[0m\u001b[1;34m\"boo\"\u001b[0m\u001b[1;33m}\u001b[0m\u001b[1;33m)\u001b[0m\u001b[1;33m.\u001b[0m\u001b[0madd\u001b[0m\u001b[1;33m(\u001b[0m\u001b[1;34m\"hello\"\u001b[0m\u001b[1;33m)\u001b[0m\u001b[1;33m\u001b[0m\u001b[0m\n\u001b[0m",
      "\u001b[1;31mAttributeError\u001b[0m: 'frozenset' object has no attribute 'add'"
     ]
    }
   ],
   "source": [
    "frozenset({3,\"boo\"}).add(\"hello\")"
   ]
  },
  {
   "cell_type": "markdown",
   "metadata": {},
   "source": [
    "Frozensets are useful because, being immutable, they can be stored in a set. Sometimes, it's useful to have a set of sets."
   ]
  },
  {
   "cell_type": "code",
   "execution_count": 78,
   "metadata": {},
   "outputs": [
    {
     "data": {
      "text/plain": [
       "{0, frozenset({1, 'world'}), 'hello'}"
      ]
     },
     "execution_count": 78,
     "metadata": {},
     "output_type": "execute_result"
    }
   ],
   "source": [
    "a = {\"hello\", 0}\n",
    "b = {\"world\", 1}\n",
    "a.add(frozenset(b))\n",
    "a"
   ]
  },
  {
   "cell_type": "markdown",
   "metadata": {},
   "source": [
    "Beware that the elements of the set inside a set are themselves not elements of the outer set:"
   ]
  },
  {
   "cell_type": "code",
   "execution_count": 83,
   "metadata": {},
   "outputs": [
    {
     "data": {
      "text/plain": [
       "False"
      ]
     },
     "execution_count": 83,
     "metadata": {},
     "output_type": "execute_result"
    }
   ],
   "source": [
    "'world' in a"
   ]
  },
  {
   "cell_type": "markdown",
   "metadata": {},
   "source": [
    "But:  `a` does contain as one of its elements a frozen version of the set `b`, which we can verify by looking it up:"
   ]
  },
  {
   "cell_type": "code",
   "execution_count": 80,
   "metadata": {},
   "outputs": [
    {
     "data": {
      "text/plain": [
       "True"
      ]
     },
     "execution_count": 80,
     "metadata": {},
     "output_type": "execute_result"
    }
   ],
   "source": [
    "b in a"
   ]
  },
  {
   "cell_type": "markdown",
   "metadata": {},
   "source": [
    "Note that we looked up the *unfrozen* version - which worked because `b==frozenset(b)`. The same does not work with tuples and lists.  See if you can predict the three booleans which are yielded by the last line below:"
   ]
  },
  {
   "cell_type": "code",
   "execution_count": 89,
   "metadata": {},
   "outputs": [],
   "source": [
    "a = [\"hello\", 0]\n",
    "b = [\"world\", 1]\n",
    "a.append(tuple(b))\n",
    "( b in a , (\"world\", 1) in a , \"world\" in a )"
   ]
  },
  {
   "cell_type": "markdown",
   "metadata": {},
   "source": [
    "## Dictionaries :  { keys and colons :  }\n",
    "\n",
    "Dictionaries are like sets, but every element of the set, now called a *key*, is now associated with a second item, called the *value*. So a dictionary is a *mapping* from keys to values. It is constructed like a set, where colons identify `key:value` pairs:"
   ]
  },
  {
   "cell_type": "code",
   "execution_count": 98,
   "metadata": {},
   "outputs": [
    {
     "data": {
      "text/plain": [
       "({'greeting': 'hello', 'audience': 'world'},\n",
       " {21: 'Alice', 35: 'Bob', 38: 'Eve', 'castle': 'Willem Alexander'})"
      ]
     },
     "execution_count": 98,
     "metadata": {},
     "output_type": "execute_result"
    }
   ],
   "source": [
    "a = { \"greeting\": \"hello\", \"audience\": \"world\" }\n",
    "b = { 21: \"Alice\", 35: \"Bob\", 38: \"Eve\", \"castle\": \"Willem Alexander\"}\n",
    "(a, b)                              # here we print out a tuple consisting of these two dictionaries"
   ]
  },
  {
   "cell_type": "code",
   "execution_count": 93,
   "metadata": {},
   "outputs": [
    {
     "data": {
      "text/plain": [
       "dict"
      ]
     },
     "execution_count": 93,
     "metadata": {},
     "output_type": "execute_result"
    }
   ],
   "source": [
    "type(a)"
   ]
  },
  {
   "cell_type": "markdown",
   "metadata": {},
   "source": [
    "You can view a dictionary as a generalisation of a list: in a list, the values are always indexed by an integer, but in a dictionary, the values can be indexed by *any* kind of key.\n",
    "\n",
    "Dictionaries can be used as an easy way to implement discrete functions, such as probability mass functions (keys: the outcomes, values: their probability mass), or to count the frequencies of the elements of a list (keys: the list elements, values: their frequencies).\n",
    "\n",
    "In practice, dictionaries are used more often than sets."
   ]
  },
  {
   "cell_type": "markdown",
   "metadata": {},
   "source": [
    "If you use the dictionary as an iterator, it will iterate over the keys."
   ]
  },
  {
   "cell_type": "code",
   "execution_count": 99,
   "metadata": {},
   "outputs": [
    {
     "data": {
      "text/plain": [
       "('greeting', 'audience')"
      ]
     },
     "execution_count": 99,
     "metadata": {},
     "output_type": "execute_result"
    }
   ],
   "source": [
    "tuple(a) # works because the dict a is iterable"
   ]
  },
  {
   "cell_type": "markdown",
   "metadata": {},
   "source": [
    "You can also request iterators for either the keys or the values explicitly:"
   ]
  },
  {
   "cell_type": "code",
   "execution_count": 100,
   "metadata": {},
   "outputs": [
    {
     "name": "stdout",
     "output_type": "stream",
     "text": [
      "keys  : ('greeting', 'audience')\n",
      "values: ('hello', 'world')\n"
     ]
    }
   ],
   "source": [
    "print(\"keys  :\", tuple(a.keys()))\n",
    "print(\"values:\", tuple(a.values()))"
   ]
  },
  {
   "cell_type": "markdown",
   "metadata": {},
   "source": [
    "As with sets, you can still check if a key is in the dictionary, though this method will not find the values (because the dictionary is iterated over its keys!)"
   ]
  },
  {
   "cell_type": "code",
   "execution_count": 108,
   "metadata": {},
   "outputs": [
    {
     "data": {
      "text/plain": [
       "(True, False)"
      ]
     },
     "execution_count": 108,
     "metadata": {},
     "output_type": "execute_result"
    }
   ],
   "source": [
    "( \"greeting\" in a , \"hello\" in a )"
   ]
  },
  {
   "cell_type": "markdown",
   "metadata": {},
   "source": [
    "But you can look up the value associated with a specific key:"
   ]
  },
  {
   "cell_type": "code",
   "execution_count": 106,
   "metadata": {},
   "outputs": [
    {
     "data": {
      "text/plain": [
       "('world', 'Eve')"
      ]
     },
     "execution_count": 106,
     "metadata": {},
     "output_type": "execute_result"
    }
   ],
   "source": [
    "(a[\"audience\"] , b[38] )"
   ]
  },
  {
   "cell_type": "markdown",
   "metadata": {},
   "source": [
    "Like sets, dictionaries are mutable (and in this case, there is no immutable version `frozendict`).\n",
    "\n",
    "You can change the value associated with a key, and add new keys:"
   ]
  },
  {
   "cell_type": "code",
   "execution_count": 110,
   "metadata": {},
   "outputs": [
    {
     "data": {
      "text/plain": [
       "{'greeting': 'whatsup?', 'new key': 5}"
      ]
     },
     "execution_count": 110,
     "metadata": {},
     "output_type": "execute_result"
    }
   ],
   "source": [
    "a[\"new key\"] = 5\n",
    "del a[\"audience\"]    # deleting the value \"world\" and its key \"audience\"\n",
    "a[\"greeting\"] = \"whatsup?\"    # changing the value associated with key \"greeting\"\n",
    "\n",
    "a"
   ]
  },
  {
   "cell_type": "markdown",
   "metadata": {},
   "source": [
    "## Comprehensions\n",
    "\n",
    "Python offers a particularly convenient and powerful way of constructing values of its major data types, which may be the main reason for Python's popularity: *comprehensions*.\n",
    "\n",
    "Comprehensions can be used to create lists, sets and dictionaries, but strangely, *not tuples*. If you try to create a tuple using a comprehension you will end up with something else instead; a \"generator\", but we won't discuss those.\n",
    "\n",
    "Comprehensions look like this:\n",
    "\n",
    "\n",
    "| comprehension                         | result      |\n",
    "| ------------------------------------- | ----------- |\n",
    "| `[<expr>       <for and if clauses>]` | `list`      |\n",
    "| `{<expr>       <for and if clauses>}` | `set`       |\n",
    "| `{<expr:expr>  <for and if clauses>}` | `dict`      |\n",
    "| `(<expr>       <for and if clauses>)` | `generator` |\n",
    "\n",
    "So it looks very much like the normal way of creating these values, except that a comprehension includes at least one `for` clause and potentially some `if` clauses as well. To see how this works, let's try out list comprehensions first:"
   ]
  },
  {
   "cell_type": "markdown",
   "metadata": {},
   "source": [
    "**List comprehensions:**"
   ]
  },
  {
   "cell_type": "code",
   "execution_count": 1,
   "metadata": {},
   "outputs": [
    {
     "data": {
      "text/plain": [
       "[30, 35, 45]"
      ]
     },
     "execution_count": 1,
     "metadata": {},
     "output_type": "execute_result"
    }
   ],
   "source": [
    "[ x*5 for x in (6,7,9) ]"
   ]
  },
  {
   "cell_type": "markdown",
   "metadata": {},
   "source": [
    "Note: comprehensions are a special syntax. **`for` and `if` used in a comprehension are not the same as `for` and `if` used normally.** For example `break` and `continue` cannot be used here."
   ]
  },
  {
   "cell_type": "code",
   "execution_count": null,
   "metadata": {},
   "outputs": [],
   "source": [
    "# Demo: making 10 copies of the string \"boo\":\n",
    "# - Which is a list comprehension?\n",
    "# - What will each do?\n",
    "\n",
    "a = \"boo\" * 10\n",
    "b = [\"boo\"] * 10\n",
    "c = [\"boo\" for i in range(10) ]\n",
    "\n",
    "print(\"a :\", a)\n",
    "print(\"b :\", b)\n",
    "print(\"c :\", c)"
   ]
  },
  {
   "cell_type": "markdown",
   "metadata": {},
   "source": [
    "The expression is evaluated for each value of `x` specified in the `for`-clause."
   ]
  },
  {
   "cell_type": "markdown",
   "metadata": {},
   "source": [
    "<span style=\"font-size:larger;color:orange\">**EXERCISE:**</span>"
   ]
  },
  {
   "cell_type": "code",
   "execution_count": null,
   "metadata": {},
   "outputs": [],
   "source": [
    "# what list is created here? Think about it before evaluating this cell!\n",
    "\n",
    "[ i*i for i in range(8) ]\n",
    "\n",
    "\n",
    "\n",
    "\n",
    "\n",
    "\n"
   ]
  },
  {
   "cell_type": "markdown",
   "metadata": {},
   "source": [
    "Additionally, `if` clauses can be used to filter the resulting list, excluding some results. They can involve variables defined in `for` specifiers that are more to the left, so this works:"
   ]
  },
  {
   "cell_type": "markdown",
   "metadata": {},
   "source": [
    "<span style=\"font-size:larger;color:orange\">**EXERCISE:**</span>"
   ]
  },
  {
   "cell_type": "code",
   "execution_count": null,
   "metadata": {},
   "outputs": [],
   "source": [
    "# What will this do?  Why?\n",
    "\n",
    "[ i for i in range(20) if int(str(i)[-1]) in (0,1,2,7,8) ]\n",
    "\n",
    "\n",
    "\n",
    "\n",
    "\n"
   ]
  },
  {
   "cell_type": "markdown",
   "metadata": {},
   "source": [
    "**Comprehensions of sets and dictionaries**\n",
    "\n",
    "These work exactly like list comprehensions, here are some examples:"
   ]
  },
  {
   "cell_type": "code",
   "execution_count": 3,
   "metadata": {},
   "outputs": [
    {
     "data": {
      "text/plain": [
       "{('hello', 1),\n",
       " ('hello', 2),\n",
       " ('hello', 3),\n",
       " ('world', 1),\n",
       " ('world', 2),\n",
       " ('world', 3)}"
      ]
     },
     "execution_count": 3,
     "metadata": {},
     "output_type": "execute_result"
    }
   ],
   "source": [
    "# Example: given two lists, make a set with all tuples of pairs:\n",
    "\n",
    "xs = [\"hello\", \"world\"]\n",
    "ys = (1,2,3)\n",
    "\n",
    "{ (x,y) for x in xs for y in ys }"
   ]
  },
  {
   "cell_type": "code",
   "execution_count": 4,
   "metadata": {},
   "outputs": [
    {
     "name": "stdout",
     "output_type": "stream",
     "text": [
      "root of 36 is 6\n",
      "root of 6400 is 80\n"
     ]
    }
   ],
   "source": [
    "# Example: make a dictionary with the square roots of the first 100 squares.\n",
    "\n",
    "roots = { i*i : i for i in range(100) }\n",
    "\n",
    "print(\"root of 36 is\", roots[36])\n",
    "print(\"root of 6400 is\", roots[6400])"
   ]
  },
  {
   "cell_type": "markdown",
   "metadata": {},
   "source": [
    "## <span style=\"font-size:larger;color:orange\">**EXERCISE**</span> answers"
   ]
  },
  {
   "cell_type": "code",
   "execution_count": 115,
   "metadata": {},
   "outputs": [
    {
     "name": "stdout",
     "output_type": "stream",
     "text": [
      "Item number 1 is hello\n",
      "Item number 2 is True\n",
      "Item number 3 is 8.71\n",
      "Item number 4 is 9\n",
      "Item number 5 is Becky\n"
     ]
    }
   ],
   "source": [
    "# Write a function that takes as input an arbitrary tuple, and outputs its\n",
    "# contents with one item per line, like so:\n",
    "#\n",
    "# Item number 1 is \"hello\".\n",
    "# Item number 2 is True.\n",
    "# ...\n",
    "#\n",
    "# Use a while-loop with the print() function inside it.  \n",
    "# Look back at previous Jupyter Notebook files as needed.\n",
    "\n",
    "k=(\"hello\", True, 8.71, 9, \"Becky\")\n",
    "def print_tuple(t):\n",
    "    i = 0\n",
    "    while i<len(t):\n",
    "        print(\"Item number\", i+1, \"is\", t[i])\n",
    "        i=i+1\n",
    "        \n",
    "print_tuple(k)"
   ]
  },
  {
   "cell_type": "code",
   "execution_count": 50,
   "metadata": {},
   "outputs": [
    {
     "data": {
      "text/plain": [
       "20"
      ]
     },
     "execution_count": 50,
     "metadata": {},
     "output_type": "execute_result"
    }
   ],
   "source": [
    "#sum tuple answer:\n",
    "t = (0,1,1,2,3,5,8)\n",
    "\n",
    "sum_variable = 0\n",
    "for n in t:\n",
    "    sum_variable += n\n",
    "    \n",
    "sum_variable"
   ]
  },
  {
   "cell_type": "code",
   "execution_count": 124,
   "metadata": {},
   "outputs": [
    {
     "name": "stdout",
     "output_type": "stream",
     "text": [
      "number of characters in string \" abracadabra \" is:             11\n",
      "number of elements in set containing only \" abracadabra \" is:  1\n",
      "number of distinct letters in the word \" abracadabra \"  are:   5 \n",
      "\n",
      "number of characters in string \" Antananarivo \" is:             12\n",
      "number of elements in set containing only \" Antananarivo \" is:  1\n",
      "number of distinct letters in the word \" Antananarivo \"  are:   8 \n",
      "\n",
      "number of characters in string \" Aa \" is:             2\n",
      "number of elements in set containing only \" Aa \" is:  1\n",
      "number of distinct letters in the word \" Aa \"  are:   2 \n",
      "\n"
     ]
    }
   ],
   "source": [
    "# 1. create a set (here b) that contains only the string \"abracadabra\"\n",
    "# 2. create a set (here c) that contains the letters of the string \"abracadabra\".\n",
    "# 3. use this to find a way to easily count the number of distinct letters in a given string.\n",
    "# Extra:  Write it as a function so that it can be easily repeated for several strings.\n",
    "\n",
    "a = \"abracadabra\"\n",
    "\n",
    "def differentcounts(x):\n",
    "    b = {x}\n",
    "    c = set(x)\n",
    "    print('number of characters in string \"', x, '\" is:            ', len(x) )\n",
    "    print('number of elements in set containing only \"', x, '\" is: ', len(b) )\n",
    "    print('number of distinct letters in the word \"', x, '\"  are:  ', len(c), '\\n' ) #+blank line at end\n",
    "\n",
    "differentcounts(a)\n",
    "\n",
    "differentcounts(\"Antananarivo\")\n",
    "\n",
    "differentcounts(\"Aa\")    # useful to note that capital and lowercase letters are counted separately!\n"
   ]
  },
  {
   "cell_type": "markdown",
   "metadata": {},
   "source": [
    "# Acknowledgements\n",
    "\n",
    "This document includes significant material, structure, and inspiration from documents in Professor Gary Steele's \"Introduction to Python for Physicists\" (https://gitlab.tudelft.nl/python-for-applied-physics/practicum-lecture-notes).\n",
    "\n",
    "Jan Koetsier is largely to thank for the adaptation and extension of these materials for Maker Lab students.\n",
    "\n",
    "Questions or suggestions can be sent to Forrest Bradbury (https://orcid.org/0000-0001-8412-4091) :  forrestbradbury (\"AT\") gmail.com"
   ]
  }
 ],
 "metadata": {
  "kernelspec": {
   "display_name": "Python 3",
   "language": "python",
   "name": "python3"
  },
  "language_info": {
   "codemirror_mode": {
    "name": "ipython",
    "version": 3
   },
   "file_extension": ".py",
   "mimetype": "text/x-python",
   "name": "python",
   "nbconvert_exporter": "python",
   "pygments_lexer": "ipython3",
   "version": "3.7.4"
  },
  "toc": {
   "base_numbering": 1,
   "nav_menu": {},
   "number_sections": true,
   "sideBar": true,
   "skip_h1_title": false,
   "title_cell": "Table of Contents",
   "title_sidebar": "Contents",
   "toc_cell": false,
   "toc_position": {
    "height": "calc(100% - 180px)",
    "left": "10px",
    "top": "150px",
    "width": "347.2px"
   },
   "toc_section_display": true,
   "toc_window_display": true
  }
 },
 "nbformat": 4,
 "nbformat_minor": 1
}
