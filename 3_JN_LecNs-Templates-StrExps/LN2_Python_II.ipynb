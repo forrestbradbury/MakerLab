{
 "cells": [
  {
   "cell_type": "markdown",
   "metadata": {},
   "source": [
    "Lecture Notes document #2:  <span style=\"font-size:larger;color:blue\">**Introduction to Python Programming, Part II**</span>\n",
    "\n",
    "This document was developed as part of a collection to support open-inquiry physical science experiments in Bachelor's level lab courses.  \n",
    "\n",
    "<a rel=\"license\" href=\"http://creativecommons.org/licenses/by-nc-sa/4.0/\"><img alt=\"Creative Commons License\" style=\"border-width:0\" src=\"https://i.creativecommons.org/l/by-nc-sa/4.0/88x31.png\" /></a><br />This work is licensed under a <a rel=\"license\" href=\"http://creativecommons.org/licenses/by-nc-sa/4.0/\">Creative Commons Attribution-NonCommercial-ShareAlike 4.0 International License</a>.  Everyone is free to reuse or adapt the materials under the conditions that they give appropriate attribution, do not use them nor derivatives of them for commercial purposes, and that any distributed or re-published adaptations are given the same Creative Commons License.\n",
    "\n",
    "A list of contributors can be found in the Acknowledgements section.  Forrest Bradbury (https://orcid.org/0000-0001-8412-4091) of Amsterdam University College is responsible for this material and can be reached by email:  forrestbradbury (\"AT\") gmail.com\n",
    "******"
   ]
  },
  {
   "cell_type": "markdown",
   "metadata": {},
   "source": [
    "This is the second Jupyter Notebook document in a series of four which serve as a brief introduction to programming in <span style=\"font-size:larger;color:brown\">**Python**</span>.  \n",
    "\n",
    "<span style=\"color:red\">**This material is not intended to substitute a good introductory programming course, but rather gives an overview of Python coding tricks that might be encountered in and utilized for data analysis methods.**</span>\n",
    "\n",
    "><span style=\"font-size:larger;color:brown\">**Outline of Part II.**</span>\n",
    ">\n",
    ">\n",
    ">* Conditionals (like `if` statements)\n",
    ">\n",
    ">\n",
    ">* While loops\n",
    ">\n",
    ">\n",
    ">* Functions\n",
    ">\n",
    ">\n",
    ">* EXERCISE answers\n",
    ">\n",
    ">\n",
    ">* Acknowledgements\n",
    ">\n",
    ">\n",
    ">****************\n",
    ">\n",
    ">(please read and work through these Jupyter Notebook lecture notes to learn some useful programming tricks and note that recommended exercises are flagged below with:  <span style=\"font-size:larger;color:orange\">**\"EXERCISE\"**</span> )\n",
    ">\n",
    ">****************"
   ]
  },
  {
   "cell_type": "markdown",
   "metadata": {},
   "source": [
    "# Control structures and Functions\n",
    "\n",
    "In the first lecture notebook we learned about the differences between variables, types and values, and we saw a bunch of Python's built in basic types `int`, `float`, `bool`, and `str`.\n",
    "\n",
    "We also had a look at *statements*, which differentiate imperative languages from functional languages. One of the most important kinds of statements are *assignments*: assigning a value to a variable using the assignment operator `=`.\n",
    "\n",
    "Today we will have a look at *control structures*. There really are only four:\n",
    "\n",
    "- `if` (with `elif` and `else`)\n",
    "- `while` (with `break` and `continue`)\n",
    "- functions (with `def` and `return`)\n",
    "- `for` loops :  which are not covered until the next set of lecture notes."
   ]
  },
  {
   "cell_type": "markdown",
   "metadata": {},
   "source": [
    "**Control in an imperative program**\n",
    "\n",
    "In a program that contains statements, execution means going from top to bottom, executing one statement at a time.\n",
    "\n",
    "- **Conditional execution.** In an imperative language like python, we can enable/disable a group of statements using an `if` construct.\n",
    "\n",
    "- **Repeated execution (loops).** In python there are also constructions that allow us to repeat a sequence of statements explicitly. We can use `while` and `for` loops for this (but this lecture we'll only consider `while` loops)."
   ]
  },
  {
   "cell_type": "markdown",
   "metadata": {},
   "source": [
    "## Conditional execution\n",
    "### `if`, `elif` and `else`"
   ]
  },
  {
   "cell_type": "markdown",
   "metadata": {},
   "source": [
    "The first mechanism for controlling the flow of a program is `if`. It looks as follows:\n",
    "\n",
    "```\n",
    "if <boolean expression>:\n",
    "    # stuff that needs to happen if the expression is True\n",
    "    # maybe multiple statements\n",
    "elif <boolean expression>:\n",
    "    # stuff that needs to happen if the second expression is True\n",
    "elif ...\n",
    "else:\n",
    "    # stuff that needs to happen if no cases apply\n",
    "```\n",
    "\n",
    "(The `elif` and `else` parts can be omitted.)\n",
    "\n",
    "Note the colons: they are a required part of the syntax.\n",
    "Also note that (unlike in other languages) the part of the program controlled by these statements is **marked by indentation**.\n",
    "\n",
    "Here is an example:"
   ]
  },
  {
   "cell_type": "code",
   "execution_count": 18,
   "metadata": {},
   "outputs": [
    {
     "name": "stdout",
     "output_type": "stream",
     "text": [
      "It's definitely less than 10.\n"
     ]
    }
   ],
   "source": [
    "a = 5 # Assignment statement!\n",
    "if a<10:\n",
    "    # It's fine for this block to contain\n",
    "    # multiple lines, like this one.\n",
    "    print(\"It's definitely less than 10.\")\n",
    "elif a>20:\n",
    "    print(\"It's definitely more than 20.\")\n",
    "else:\n",
    "    print(\"It's somewhere between 10 and 20.\")"
   ]
  },
  {
   "cell_type": "markdown",
   "metadata": {},
   "source": [
    "***********\n",
    "Much of the time, you will not need any `elif` or `else` parts and you just have a part of your program that only gets executed if a certain thing is the case."
   ]
  },
  {
   "cell_type": "markdown",
   "metadata": {},
   "source": [
    "**If with non-boolean expressions**\n",
    "\n",
    "Most of the time, you will stick an expression with a boolean value into an `if`. However, it is not forbidden to stick other kinds of expression into an `if`. If you do this, you will find that most values count as `True`, but some do not:"
   ]
  },
  {
   "cell_type": "code",
   "execution_count": 2,
   "metadata": {},
   "outputs": [
    {
     "name": "stdout",
     "output_type": "stream",
     "text": [
      "hello is true\n",
      " is false\n",
      "3.141592 is true\n",
      "0.0 is false\n",
      "0 is false\n"
     ]
    }
   ],
   "source": [
    "val = \"hello\" # string\n",
    "if val:\n",
    "    print(val, \"is true\")\n",
    "else:\n",
    "    print(val, \"is false\")\n",
    "\n",
    "val = \"\" # empty string\n",
    "if val:\n",
    "    print(val, \"is true\")\n",
    "else:\n",
    "    print(val, \"is false\")\n",
    "    \n",
    "val = 3.141592 # pi (float)\n",
    "if val:\n",
    "    print(val, \"is true\")\n",
    "else:\n",
    "    print(val, \"is false\")\n",
    "\n",
    "val = 0.0 # zero (float)\n",
    "if val:\n",
    "    print(val, \"is true\")\n",
    "else:\n",
    "    print(val, \"is false\")\n",
    "    \n",
    "val = 0 # zero (int)\n",
    "if val:\n",
    "    print(val, \"is true\")\n",
    "else:\n",
    "    print(val, \"is false\")"
   ]
  },
  {
   "cell_type": "markdown",
   "metadata": {},
   "source": [
    "## Repeated execution (loops)\n",
    "\n",
    "### `while` loops\n",
    "\n",
    "A `while` statement introduces a block of statements that will be executed in a *loop*: it will be executed 0 or more times, until the condition of the while loop becomes `False`. It looks as follows:\n",
    "\n",
    "```\n",
    "while <boolean expression>:\n",
    "    # stuff that needs to happen while the expression is True\n",
    "    # possibly includes break and continue statements\n",
    "```\n",
    "\n",
    "Here is an example:"
   ]
  },
  {
   "cell_type": "code",
   "execution_count": 1,
   "metadata": {},
   "outputs": [
    {
     "name": "stdout",
     "output_type": "stream",
     "text": [
      "The value of X is now 2\n",
      "The value of X is now 3\n",
      "The value of X is now 4\n",
      "The value of X is now 5\n",
      "The value of X is now 6\n",
      "The value of X is now 7\n",
      "The value of X is now 8\n",
      "The value of X is now 9\n",
      "The value of X is now 10\n",
      "The value of X is now 11\n"
     ]
    }
   ],
   "source": [
    "X = 1\n",
    "while X <= 10:\n",
    "    X = X+1\n",
    "    print(\"The value of X is now\", X)\n"
   ]
  },
  {
   "cell_type": "markdown",
   "metadata": {},
   "source": [
    "Using a combination of `while` and `if` constructs, it's already possible to make the computer do whatever we want it\n",
    "to. Note that we can actually use `while` *inside* an `if`-block or vice versa.\n",
    "***************"
   ]
  },
  {
   "cell_type": "markdown",
   "metadata": {},
   "source": [
    "<span style=\"font-size:larger;color:orange\">**EXERCISE:**</span>"
   ]
  },
  {
   "cell_type": "code",
   "execution_count": 19,
   "metadata": {},
   "outputs": [],
   "source": [
    "# Design a program using a WHILE LOOP to print the first 10 Fibonacci numbers: 0,1,1,2,3,5,8,13,21,34,...\n",
    "\n",
    "\n",
    "\n"
   ]
  },
  {
   "cell_type": "markdown",
   "metadata": {},
   "source": [
    "### `break` and `continue`\n",
    "There are two special statements that you can use in the body of a loop.\n",
    "\n",
    "- `continue` skips the rest of the indented block and immediately starts the next iteration of the loop (provided the condition in the `while` is still `True`).\n",
    "- `break` exists the loop altogether, regardless of whether the condition in the `while` statement is `True` or not.\n",
    "\n",
    "<span style=\"font-size:large\">**Example:**</span>"
   ]
  },
  {
   "cell_type": "code",
   "execution_count": 7,
   "metadata": {},
   "outputs": [
    {
     "name": "stdout",
     "output_type": "stream",
     "text": [
      "Start of loop, i=1\n",
      "  Odd => skipping\n",
      "Start of loop, i=2\n",
      "Start of loop, i=3\n",
      "  Odd => skipping\n",
      "Start of loop, i=4\n",
      "Start of loop, i=5\n",
      "  Odd => skipping\n",
      "Start of loop, i=6\n",
      "Start of loop, i=7\n",
      "  Odd => skipping\n",
      "Start of loop, i=8\n",
      "Start of loop, i=9\n",
      "  Odd => skipping\n",
      "Start of loop, i=10\n",
      "Start of loop, i=11\n",
      "  Odd => skipping\n",
      "Start of loop, i=12\n",
      "Start of loop, i=13\n",
      "  Odd => skipping\n",
      "Start of loop, i=14\n",
      "  Even and divisible by 7 => done!\n",
      "Result is 14\n"
     ]
    }
   ],
   "source": [
    "# Find the first number greater than 0 that is both even and divisible by 7\n",
    "\n",
    "i = 0\n",
    "while True:\n",
    "    i = i + 1\n",
    "    print(\"Start of loop, i=\", i, sep=\"\")\n",
    "    if i%2==1:\n",
    "        print(\"  Odd => skipping\")\n",
    "        continue\n",
    "    if i%7==0:\n",
    "        print(\"  Even and divisible by 7 => done!\")\n",
    "        break\n",
    "    \n",
    "print(\"Result is\", i)"
   ]
  },
  {
   "cell_type": "markdown",
   "metadata": {},
   "source": [
    "(The code above is actually not very elegant. It is intended to show use of `break` and `continue`. But a better, more straightforward way to solve this problem would be as follows:)"
   ]
  },
  {
   "cell_type": "code",
   "execution_count": 7,
   "metadata": {},
   "outputs": [
    {
     "name": "stdout",
     "output_type": "stream",
     "text": [
      "Here we are! i= 14\n"
     ]
    }
   ],
   "source": [
    "i = 1\n",
    "while not(i%2==0 and i%7==0): \n",
    "    i = i + 1\n",
    "\n",
    "print(\"Here we are! i=\",i)"
   ]
  },
  {
   "cell_type": "markdown",
   "metadata": {},
   "source": [
    "<span style=\"font-size:larger;color:orange\">**EXERCISE:**</span>"
   ]
  },
  {
   "cell_type": "code",
   "execution_count": 6,
   "metadata": {},
   "outputs": [],
   "source": [
    "number = 987527\n",
    "\n",
    "# Write a program to find a divisor of the number above.\n",
    "# Any divisor > 1 and < number  is okay.\n",
    "\n",
    "\n",
    "\n"
   ]
  },
  {
   "cell_type": "markdown",
   "metadata": {},
   "source": [
    "## Functions\n",
    "\n",
    "Functions are the main tool for organising your program in self contained parts, so that it does not become one big bowl of spaghetti.\n",
    "\n",
    "Functions can contain multiple statements, and complicated logic using `if` and `while`. Do not abuse this power! A well written function is usually quite short, and writing helper functions is definitely a good practice. As a rule of thumb, make sure each function in your program has only one clearly defined purpose.\n",
    "\n",
    "When designing functions, in general start with functional examples, a signature and a header, and then develop the function body.\n",
    "\n",
    "A function takes a bunch of values as input, does some operations on them, and it may or may not yield another value as output. A function definition looks like this:\n",
    "\n",
    "```\n",
    "def <function name>(<argument1>, <argument2>, ...):\n",
    "    \"\"\"A string with the purpose statement of the function.\n",
    "    It may be a multiline string, marked by a triple quote, like this one.\n",
    "    The functional description is also reported by the help() function.\"\"\"\n",
    "\n",
    "    # do stuff with the arguments...\n",
    "\n",
    "    return <some value>\n",
    "```"
   ]
  },
  {
   "cell_type": "code",
   "execution_count": 20,
   "metadata": {},
   "outputs": [],
   "source": [
    "#Function example:\n",
    "\n",
    "def add_func(a, b):\n",
    "    \"\"\"This function returns the sum of a and b\"\"\"\n",
    "    return(a+b)"
   ]
  },
  {
   "cell_type": "markdown",
   "metadata": {},
   "source": [
    "A function often has a number of input values and one output value. However, since Python is an imperative language, a function may *instead* or *also* have \"side effects\": it may change the values of variables, or produce additional output through `print` statements, for example.\n",
    "\n",
    "The first line of a function is the header, with the name of the function, and zero or more *arguments* or *inputs*: names of values that are to be supplied to the function when it is invoked. Under the header, marked by indentation, is the function *body*: a sequence of Python statements that define the behaviour of the function.\n",
    "\n",
    "The function stops when the indented code ends, or when a `return` statement is reached; the return statement is used to specify which value is output by the function. While `return` often appears at the end of the function body, this is not required: it may not appear at all (if the function does not have an output value and is used for its side effects only), or there may be multiple `return` statements in the function body (usually within `if`-statements).\n",
    "\n",
    "The function uses variables to gradually calculate the desired value, much like you would calculate that value by hand using a piece of paper. The `return` statement stops the function with that value as a result."
   ]
  },
  {
   "cell_type": "markdown",
   "metadata": {},
   "source": [
    "We've already used several functions, including `print` and `help`; functions are called by writing their name followed by a list of input values separated by commas and enclosed in parentheses."
   ]
  },
  {
   "cell_type": "markdown",
   "metadata": {},
   "source": [
    "Functions allow you to split up a problem into manageable chunks, and these chunks can later be reused in other parts of your program, so you don't have to solve the same problem twice. "
   ]
  },
  {
   "cell_type": "markdown",
   "metadata": {},
   "source": [
    "Normally, all function arguments have to be supplied in order when you call the function. But Python offers some flexibility:\n",
    "\n",
    "**Trick #1. It is possible to give arguments default values.**"
   ]
  },
  {
   "cell_type": "code",
   "execution_count": 21,
   "metadata": {},
   "outputs": [
    {
     "name": "stdout",
     "output_type": "stream",
     "text": [
      "arg1 = 3\n",
      "arg2 = hello\n"
     ]
    }
   ],
   "source": [
    "def f(arg1=3, arg2=\"hello\"):\n",
    "    print(\"arg1 =\", arg1)\n",
    "    print(\"arg2 =\", arg2)\n",
    "    \n",
    "f()"
   ]
  },
  {
   "cell_type": "code",
   "execution_count": 4,
   "metadata": {},
   "outputs": [
    {
     "name": "stdout",
     "output_type": "stream",
     "text": [
      "arg1 = boo\n",
      "arg2 = hello\n"
     ]
    }
   ],
   "source": [
    "f(\"boo\")"
   ]
  },
  {
   "cell_type": "markdown",
   "metadata": {},
   "source": [
    "(Note that `f` has no return value at all: they are optional. It's evaluated for its side effects only.)"
   ]
  },
  {
   "cell_type": "markdown",
   "metadata": {},
   "source": [
    "**Trick #2. You can pass arguments by name instead of in order.**"
   ]
  },
  {
   "cell_type": "code",
   "execution_count": 5,
   "metadata": {},
   "outputs": [
    {
     "name": "stdout",
     "output_type": "stream",
     "text": [
      "arg1 = 3\n",
      "arg2 = 1\n"
     ]
    }
   ],
   "source": [
    "f(arg2=1)"
   ]
  },
  {
   "cell_type": "markdown",
   "metadata": {},
   "source": [
    "Here is an example of how to use a function for printing and calculating subsequent Fibonnacci numbers:"
   ]
  },
  {
   "cell_type": "code",
   "execution_count": 17,
   "metadata": {},
   "outputs": [
    {
     "name": "stdout",
     "output_type": "stream",
     "text": [
      "Here is Fibonacci number #0: 0\n",
      "Here is Fibonacci number #1: 1\n",
      "Here is Fibonacci number #2: 1\n",
      "Here is Fibonacci number #3: 2\n",
      "Here is Fibonacci number #4: 3\n",
      "Here is Fibonacci number #5: 5\n",
      "Here is Fibonacci number #6: 8\n",
      "Here is Fibonacci number #7: 13\n",
      "Here is Fibonacci number #8: 21\n",
      "Here is Fibonacci number #9: 34\n"
     ]
    }
   ],
   "source": [
    "#Fibonacci exercise NOW WITH FUNCTIONS! :\n",
    "numberofnumbers = 10   # the number of Fibonacci numbers to evaluate and print\n",
    "F_current = 0  # initialize the first Fibonnacci number\n",
    "F_next = 1  # initialize the next Fibonnacci number\n",
    "i = 0 # the number of Fibonacci numbers that have been generated\n",
    "\n",
    "\n",
    "def f(arg1,arg2):\n",
    "    print(\"Here is Fibonacci number #\",i, \": \", arg1, sep=\"\")\n",
    "    return(arg2,arg1+arg2)\n",
    "    \n",
    "while i < numberofnumbers :\n",
    "    F_current,F_next = f(F_current,F_next)  # our function f requires two inputs and has two outputs \n",
    "    i = i+1"
   ]
  },
  {
   "cell_type": "markdown",
   "metadata": {},
   "source": [
    "## <span style=\"font-size:larger;color:orange\">**EXERCISE**</span> answers"
   ]
  },
  {
   "cell_type": "code",
   "execution_count": null,
   "metadata": {},
   "outputs": [],
   "source": [
    "#Fibonacci exercise answer (WITHIN A WHILE LOOP):\n",
    "numberofnumbers = 10   # the number of Fibonacci numbers to evaluate and print\n",
    "Fa = 0\n",
    "Fb = 1\n",
    "i = 0 # the index of Fibonacci numbers that have been generated\n",
    "\n",
    "while i < numberofnumbers :\n",
    "    print(\"Here is Fibonacci number #\",i, \":  \", Fa, sep=\"\")\n",
    "    \n",
    "    # shift Fa and Fb to be the next two Fibonacci numbers\n",
    "    # first calculate the next one\n",
    "\n",
    "    Fc = Fa + Fb\n",
    "    Fa = Fb\n",
    "    Fb = Fc\n",
    "    \n",
    "    i = i+1"
   ]
  },
  {
   "cell_type": "code",
   "execution_count": null,
   "metadata": {},
   "outputs": [],
   "source": [
    "#Divisor exercise answer:\n",
    "i = 2\n",
    "\n",
    "while i < 987527:\n",
    "    if (987527//i)*i == 987527:\n",
    "        print(\"We've found a divisor! it's:\", i)\n",
    "        break\n",
    "    else:\n",
    "        i += 1"
   ]
  },
  {
   "cell_type": "markdown",
   "metadata": {},
   "source": [
    "# Acknowledgements\n",
    "\n",
    "\n",
    "This document includes significant material, structure, and inspiration from documents in Professor Gary Steele's \"Introduction to Python for Physicists\" (https://gitlab.tudelft.nl/python-for-applied-physics/practicum-lecture-notes).\n",
    "\n",
    "Jan Koetsier is largely to thank for the adaptation and extension of these materials for Maker Lab students.\n",
    "\n",
    "Questions or suggestions can be sent to Forrest Bradbury (https://orcid.org/0000-0001-8412-4091) :  forrestbradbury (\"AT\") gmail.com"
   ]
  }
 ],
 "metadata": {
  "kernelspec": {
   "display_name": "Python 3",
   "language": "python",
   "name": "python3"
  },
  "language_info": {
   "codemirror_mode": {
    "name": "ipython",
    "version": 3
   },
   "file_extension": ".py",
   "mimetype": "text/x-python",
   "name": "python",
   "nbconvert_exporter": "python",
   "pygments_lexer": "ipython3",
   "version": "3.7.4"
  },
  "toc": {
   "base_numbering": 1,
   "nav_menu": {},
   "number_sections": true,
   "sideBar": true,
   "skip_h1_title": false,
   "title_cell": "Table of Contents",
   "title_sidebar": "Contents",
   "toc_cell": false,
   "toc_position": {
    "height": "calc(100% - 180px)",
    "left": "10px",
    "top": "150px",
    "width": "269px"
   },
   "toc_section_display": true,
   "toc_window_display": true
  }
 },
 "nbformat": 4,
 "nbformat_minor": 1
}
