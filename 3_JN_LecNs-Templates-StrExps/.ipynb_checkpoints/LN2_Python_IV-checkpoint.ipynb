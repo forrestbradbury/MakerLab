{
 "cells": [
  {
   "cell_type": "markdown",
   "metadata": {},
   "source": [
    "Lecture Notes document #2:  <span style=\"font-size:larger;color:blue\">**Introduction to Python Programming, Part IV**</span>\n",
    "\n",
    "This document was developed as part of a collection to support open-inquiry physical science experiments in Bachelor's level lab courses.  \n",
    "\n",
    "<a rel=\"license\" href=\"http://creativecommons.org/licenses/by-nc-sa/4.0/\"><img alt=\"Creative Commons License\" style=\"border-width:0\" src=\"https://i.creativecommons.org/l/by-nc-sa/4.0/88x31.png\" /></a><br />This work is licensed under a <a rel=\"license\" href=\"http://creativecommons.org/licenses/by-nc-sa/4.0/\">Creative Commons Attribution-NonCommercial-ShareAlike 4.0 International License</a>.  Everyone is free to reuse or adapt the materials under the conditions that they give appropriate attribution, do not use them nor derivatives of them for commercial purposes, and that any distributed or re-published adaptations are given the same Creative Commons License.\n",
    "\n",
    "A list of contributors can be found in the Acknowledgements section.  Forrest Bradbury (https://orcid.org/0000-0001-8412-4091) of Amsterdam University College is responsible for this material and can be reached by email:  forrestbradbury (\"AT\") gmail.com\n",
    "******"
   ]
  },
  {
   "cell_type": "markdown",
   "metadata": {},
   "source": [
    "This is the fourth Jupyter Notebook document in a series of four which serve as a brief introduction to programming in <span style=\"font-size:larger;color:brown\">**Python**</span>.  \n",
    "\n",
    "<span style=\"color:red\">**This material is not intended to substitute a good introductory programming course, but rather gives an overview of Python coding tricks that might be encountered in and utilized for data analysis methods.**</span>\n",
    "\n",
    "><span style=\"font-size:larger;color:brown\">**Outline of Part IV.**</span>\n",
    ">\n",
    ">\n",
    ">- Modules and `import`\n",
    ">\n",
    ">\n",
    ">- Reading from files\n",
    ">\n",
    ">\n",
    ">- Numpy for data analysis\n",
    ">\n",
    ">\n",
    ">- Matplotlib for plotting\n",
    ">\n",
    ">\n",
    ">- Acknowledgements\n",
    ">\n",
    ">\n",
    ">****************\n",
    ">\n",
    ">(please read and work through these Jupyter Notebook lecture notes to learn some useful programming tricks and note that recommended exercises are flagged below with:  <span style=\"font-size:larger;color:orange\">**\"EXERCISE\"**</span> )\n",
    ">\n",
    ">****************"
   ]
  },
  {
   "cell_type": "markdown",
   "metadata": {},
   "source": [
    "# Modules and `import`\n",
    "\n",
    "A module is a Python program with useful functions that are intended to be used within other Python programs. There are many Python modules, a lot of which are part of the Python standard library:\n",
    "\n",
    "- **Math**: supports numerical constants and operations like `sin`, `log`, etc.\n",
    "- **Random**: a module for random number generation\n",
    "- **Pickle**: a module for saving arbitrary Python objects to a file or transmitting them over the network.\n",
    "\n",
    "But there are also modules distributed by other parties, and some of these are very sophisticated:\n",
    "\n",
    "- **NumPy**: a module that supports efficient linear algebra and other numerical methods\n",
    "- **Matplotlib**: a module for making graphs and charts.\n",
    "- **Pandas**: a module for working with R-style data frames\n",
    "- **ScikitLearn**: a module that contains many machine learning algorithms\n",
    "\n",
    "In this lecture, we'll look at Numpy and Matplotlib.\n",
    "\n",
    "You load a module by\n",
    "\n",
    "```\n",
    "import <modulename>\n",
    "```\n",
    "\n",
    "and this makes available any number of functions and variables that can be accessed using the module name followed by a dot. \n",
    "\n",
    "Example:"
   ]
  },
  {
   "cell_type": "code",
   "execution_count": 8,
   "metadata": {},
   "outputs": [
    {
     "name": "stdout",
     "output_type": "stream",
     "text": [
      "3.141592653589793\n",
      "0.1411200080598672\n",
      "1.0\n",
      "2.302585092994046\n"
     ]
    }
   ],
   "source": [
    "import math\n",
    "\n",
    "print(math.pi)              # this and the following all return float values\n",
    "print(math.sin(3))\n",
    "print(math.sin(math.pi/2))  # we see the sine function takes angle in radians as input\n",
    "print(math.log(10))         # notice this is the natural log function (not log base 10)"
   ]
  },
  {
   "cell_type": "markdown",
   "metadata": {},
   "source": [
    "If `<modulename>` is very long and you don't want to have to type it in all the time, you can rename it using:\n",
    "\n",
    "```\n",
    "import <modulename> as <alias>\n",
    "```\n",
    "If this is still too much typing, you can use a slightly different syntax that allows you to import those variables or functions into the global namespace directly:\n",
    "\n",
    "```\n",
    "from <modulename> import <name>, <name>, ...\n",
    "```"
   ]
  },
  {
   "cell_type": "code",
   "execution_count": 9,
   "metadata": {},
   "outputs": [
    {
     "data": {
      "text/plain": [
       "(3.141592653589793, 6.0, 2.718281828459045, 3.141592653589793)"
      ]
     },
     "execution_count": 9,
     "metadata": {},
     "output_type": "execute_result"
    }
   ],
   "source": [
    "from math import pi, sqrt, exp, atan2\n",
    "\n",
    "#note sqrt() is the square root function\n",
    "#note exp() is the natural exponent raised to the given power: e^()\n",
    "#note atan2() is arc-tangent taking in both X and Y values to yield angle in plane\n",
    "\n",
    "pi, sqrt(36), exp(1), atan2(0,-1)   \n"
   ]
  },
  {
   "cell_type": "markdown",
   "metadata": {},
   "source": [
    "# File I/O (loading/saving) and `with`"
   ]
  },
  {
   "cell_type": "markdown",
   "metadata": {
    "collapsed": true
   },
   "source": [
    "\n",
    "Python offers built-in functions `open` and `close` that allow low level access to files, allowing you to read and write strings or binary (encoded) data. The structure is as follows:\n",
    "\n",
    "- The call to `open` yields an object that is called a \"file handle\", that serves as an access point to file operations:  `<handle> = open(<filepath>, <mode>)`\n",
    "- You can open a file in several different modes; see the table below.\n",
    "- Your program does what it wants to do with the file using its handle.\n",
    "- When you're done, you have to `close` the file handle to free up system resources and let the system know that the file is not in use.\n",
    "\n",
    "\n",
    "Modes for opening a file:\n",
    "\n",
    "| mode        | meaning                                        |\n",
    "| ----------- | ---------------------------------------------- |\n",
    "| `r`/`w`/`+` | read/write/update (default `r` can be omitted) |\n",
    "| `t`/`b`     | text/binary (default `t` can be omitted)       |\n",
    "| `a`         | append                                         |\n",
    "| `x`         | check that file did not exist before           |\n",
    "\n",
    "Once a file is open, there is the danger that an error will occur in the program, leading to the file never being closed again. This will keep costing system resources until the program is terminated. For that reason, Python has a built-in keyword `with` that can be used to handle resources appropriately under all circumstances. It looks like this:\n",
    "\n",
    "```\n",
    "with open(<filepath>, <mode>) as <handle>:\n",
    "    # do stuff with <handle>\n",
    "```\n",
    "\n",
    "Once you have a file handle, there are all kinds of things you can do with the file like reading/writing a line. See the Python tutorial (https://docs.python.org/3/tutorial/) for more information.\n",
    "\n",
    "**IMPORTANT NOTES:**  \n",
    "\n",
    "Python's file path names can be \"relative\" paths.  Thus, using only the filename works whenever that file is in the same directory as the Jupyter Notebook that you're using.  It's often more convenient to keep your data files in a sub-folder of your code's directory, which is what we do here.\n",
    "\n",
    "Unfortunately, file paths on different operating systems use slightly different slashes.  To make sure the following code works for different operating systems, the nifty `pathlib` module is used to automatically fix (when needed) the notation for the file paths!\n",
    "\n",
    "While `pathlib` will make sure the notation is good, the following example will only actually find the data file if you have it located in the folder named below which has been placed as a subfolder of the directory where you are running this Jupyter Notebook file:  `datafolder/dorian_gray.txt`.  This should already be arranged if you had extracted the given materials in one go and kept the directory structure intact.\n",
    "\n"
   ]
  },
  {
   "cell_type": "code",
   "execution_count": null,
   "metadata": {},
   "outputs": [],
   "source": [
    "# Read the entire novel \"Picture of Dorian Gray\"  by Oscar Wilde into a string:\n",
    "# note: text file must be in subfolder \"datafolder\" of this Jupyter Notebook's own directory!\n",
    "\n",
    "from pathlib import Path  # pathlib.Path formats pathnames to suit your operating system\n",
    "\n",
    "# declare the appropriate filename as a string:\n",
    "filename = \"dorian_gray.txt\"   # was sent in zipfile along with this Jupyter Notebook\n",
    "\n",
    "sub_folder = Path(\"datafolder/\")     # set name of sub-directory where data is to be stored\n",
    "file_path = sub_folder / filename    # file path is combination of filename and its folder\n",
    "\n",
    "\n",
    "with open(file_path, 'r') as handle:\n",
    "    dorian_gray = handle.read() # get all data from the file as a string\n",
    "    \n",
    "# Split up the string into its individual words:\n",
    "dorian_gray_words = dorian_gray.split()\n",
    "\n",
    "print(\"The number of words in the book is\", len(dorian_gray_words), \n",
    "      \"; the 1000th word is\", dorian_gray_words[999])\n"
   ]
  },
  {
   "cell_type": "markdown",
   "metadata": {},
   "source": [
    "# NumPy for data analysis\n",
    "\n",
    "We will see that the NumPy module is really useful for data analysis.\n",
    "\n",
    "There is actually already a module in the Python standard library called `array`, which allows construction of \"homogeneous\" arrays that have an efficient representation in memory.  A homogeneous array contains values of only a single type.  However, the functionality of Python arrays is rather limited if you want to do data analysis.\n",
    "\n",
    "Thanks to the good people in the open source community, we can switch to `NumPy`, which provides a more full-featured alternative which supports many methods from linear algebra, and has really fast implementations."
   ]
  },
  {
   "cell_type": "code",
   "execution_count": 15,
   "metadata": {},
   "outputs": [],
   "source": [
    "import numpy as np"
   ]
  },
  {
   "cell_type": "markdown",
   "metadata": {},
   "source": [
    "## ndarray: construction\n",
    "The basic `NumPy` type is the `ndarray`. One way to construct it is from a Python list or tuple, or a list/tuple of list/tuples."
   ]
  },
  {
   "cell_type": "code",
   "execution_count": 16,
   "metadata": {},
   "outputs": [
    {
     "data": {
      "text/plain": [
       "array(['hello', '3'], dtype='<U5')"
      ]
     },
     "execution_count": 16,
     "metadata": {},
     "output_type": "execute_result"
    }
   ],
   "source": [
    "# Create a single dimensional array from a list or tuple.\n",
    "a = np.array([\"hello\", 3])\n",
    "a"
   ]
  },
  {
   "cell_type": "code",
   "execution_count": 17,
   "metadata": {},
   "outputs": [
    {
     "data": {
      "text/plain": [
       "numpy.ndarray"
      ]
     },
     "execution_count": 17,
     "metadata": {},
     "output_type": "execute_result"
    }
   ],
   "source": [
    "type(a)"
   ]
  },
  {
   "cell_type": "markdown",
   "metadata": {},
   "source": [
    "Note that all arguments are converted to a single type, in this case <U5 which seems to be used for strings.  Every `numpy` object has a `dtype`. It is usually inferred automatically, but you can also specify it explicitly:"
   ]
  },
  {
   "cell_type": "code",
   "execution_count": 18,
   "metadata": {},
   "outputs": [
    {
     "data": {
      "text/plain": [
       "array([[1.+0.j, 2.+0.j],\n",
       "       [3.+0.j, 4.+0.j]])"
      ]
     },
     "execution_count": 18,
     "metadata": {},
     "output_type": "execute_result"
    }
   ],
   "source": [
    "np.array( [ [1,2], [3,4] ], dtype=complex )"
   ]
  },
  {
   "cell_type": "code",
   "execution_count": 198,
   "metadata": {},
   "outputs": [
    {
     "data": {
      "text/plain": [
       "array([[[ 1,  2],\n",
       "        [ 3,  4]],\n",
       "\n",
       "       [[ 5,  6],\n",
       "        [ 7,  8]],\n",
       "\n",
       "       [[ 9, 10],\n",
       "        [11, 12]]])"
      ]
     },
     "execution_count": 198,
     "metadata": {},
     "output_type": "execute_result"
    }
   ],
   "source": [
    "# Here is a three dimensional array:\n",
    "np.array( [[[1,2],[3,4]], [[5,6],[7,8]], [[9,10],[11,12]]] )"
   ]
  },
  {
   "cell_type": "markdown",
   "metadata": {},
   "source": [
    "You can also create arrays of a given size without immediately filling it with data from regular Python objects. The fastest way to construct an array is using `empty`, which does not initialise the entries at all: the values are defined what happens to be present in the computer memory at the time. So make sure to initialise it properly later before you use any of these values!"
   ]
  },
  {
   "cell_type": "code",
   "execution_count": null,
   "metadata": {},
   "outputs": [],
   "source": [
    "# warning!  This yields random junk dependent on your recent actions!\n",
    "np.empty([15, 3])\n",
    "\n",
    "# try running it, but don't bother figuring out why it yields the given values"
   ]
  },
  {
   "cell_type": "markdown",
   "metadata": {},
   "source": [
    "It is also often convenient to initialise an `ndarray` with zeros or ones."
   ]
  },
  {
   "cell_type": "code",
   "execution_count": 21,
   "metadata": {},
   "outputs": [
    {
     "data": {
      "text/plain": [
       "array([[0., 0., 0.],\n",
       "       [0., 0., 0.]])"
      ]
     },
     "execution_count": 21,
     "metadata": {},
     "output_type": "execute_result"
    }
   ],
   "source": [
    "np.zeros([2,3])"
   ]
  },
  {
   "cell_type": "markdown",
   "metadata": {},
   "source": [
    "Note that they are initialised by default to some floating point type: let's find out which it is:"
   ]
  },
  {
   "cell_type": "code",
   "execution_count": 22,
   "metadata": {},
   "outputs": [
    {
     "data": {
      "text/plain": [
       "dtype('float64')"
      ]
     },
     "execution_count": 22,
     "metadata": {},
     "output_type": "execute_result"
    }
   ],
   "source": [
    "np.zeros([2,3]).dtype"
   ]
  },
  {
   "cell_type": "markdown",
   "metadata": {},
   "source": [
    "But, as before you can explicitly specify a different data type:"
   ]
  },
  {
   "cell_type": "code",
   "execution_count": 23,
   "metadata": {},
   "outputs": [
    {
     "data": {
      "text/plain": [
       "array([[1, 1],\n",
       "       [1, 1],\n",
       "       [1, 1]])"
      ]
     },
     "execution_count": 23,
     "metadata": {},
     "output_type": "execute_result"
    }
   ],
   "source": [
    "np.ones([3,2], dtype=np.int32)"
   ]
  },
  {
   "cell_type": "markdown",
   "metadata": {},
   "source": [
    "Finally, there is an analogue of the `range` function, called `arange`, that constructs single dimensional arrays, and a related method called `linspace` in which you provide the number of steps rather than the stepsize."
   ]
  },
  {
   "cell_type": "code",
   "execution_count": 11,
   "metadata": {},
   "outputs": [
    {
     "data": {
      "text/plain": [
       "array([ 0,  3,  6,  9, 12, 15, 18, 21, 24, 27, 30, 33, 36, 39])"
      ]
     },
     "execution_count": 11,
     "metadata": {},
     "output_type": "execute_result"
    }
   ],
   "source": [
    "# go from 0 to 40 (excluding 40 itself) in steps of 3\n",
    "np.arange(0,40,3)"
   ]
  },
  {
   "cell_type": "markdown",
   "metadata": {},
   "source": [
    "And an alternative linspace, where the first and last inputs specify the first and last values, and the third input specifies how long the array should be."
   ]
  },
  {
   "cell_type": "code",
   "execution_count": 12,
   "metadata": {},
   "outputs": [
    {
     "data": {
      "text/plain": [
       "array([ 0., 20., 40.])"
      ]
     },
     "execution_count": 12,
     "metadata": {},
     "output_type": "execute_result"
    }
   ],
   "source": [
    "# go from 0 all the way to 40 in 3 steps\n",
    "np.linspace(0,40,3)"
   ]
  },
  {
   "cell_type": "markdown",
   "metadata": {},
   "source": [
    "## Views\n",
    "\n",
    "In some object oriented designs, and certainly in `NumPy`, it is possible that you are offered access to some data not through one object, but through a whole bunch of objects. Multiple objects providing access to the same underlying data are called *views* on the data. Many of the methods and functions that we've considered (such as `reshape` and `transpose`, as well as extracting rows or columns through indexing) actually yield a different view of the same underlying data.\n",
    "\n",
    "It is important to realise that `ndarray`'s are **mutable**, and that mutations to an `ndarray` will affect *all* views on it.\n",
    "\n",
    "The advantage of views is that they are lightweight: if you have a huge matrix, producing a different view of the matrix does not require copying all the data.\n",
    "\n",
    "You'll see an example of several views on the same data below when we use reshape."
   ]
  },
  {
   "cell_type": "markdown",
   "metadata": {},
   "source": [
    "## Reshaping, joining and splitting arrays\n",
    "\n",
    "In addition to `dtype`, `ndarrays` also have a `shape` property that determines the size and dimensionality of the matrix. Changing it changes the interpretation of the data in the matrix. Changing the shape gives you two \"views\" of the *same* underlying data!"
   ]
  },
  {
   "cell_type": "code",
   "execution_count": null,
   "metadata": {},
   "outputs": [],
   "source": [
    "a = np.array([(1,2,3),(4,5,6)])\n",
    "print(\"Normal a:\\n\",a, sep=\"\")\n",
    "\n",
    "b = a.reshape(3,2)\n",
    "print(\"Shape changed:\\n\", b, sep=\"\")\n",
    "\n",
    "a[1,0]=8 # this changes the data that both a and b refer to! So:\n",
    "print(\"After a was changed:\\n\", a, sep=\"\")\n",
    "\n",
    "b[1,0]=9 # this changes the data that both a and b refer to! So:\n",
    "print(\"After b was changed:\\n\", b, sep=\"\")\n",
    "\n",
    "# before running this, guess what a & b will be before & after changes !"
   ]
  },
  {
   "cell_type": "markdown",
   "metadata": {},
   "source": [
    "One can glue together matrices and/or vectors using `vstack` and `hstack`:"
   ]
  },
  {
   "cell_type": "code",
   "execution_count": 17,
   "metadata": {},
   "outputs": [
    {
     "data": {
      "text/plain": [
       "array([[1, 2],\n",
       "       [9, 8],\n",
       "       [5, 6],\n",
       "       [1, 2],\n",
       "       [9, 8],\n",
       "       [5, 6],\n",
       "       [1, 2],\n",
       "       [9, 8],\n",
       "       [5, 6]])"
      ]
     },
     "execution_count": 17,
     "metadata": {},
     "output_type": "execute_result"
    }
   ],
   "source": [
    "np.vstack((b,b,b))"
   ]
  },
  {
   "cell_type": "markdown",
   "metadata": {},
   "source": [
    "To split an array, there are `hsplit` and `vsplit`:"
   ]
  },
  {
   "cell_type": "code",
   "execution_count": 18,
   "metadata": {},
   "outputs": [
    {
     "name": "stdout",
     "output_type": "stream",
     "text": [
      "[[1 2 9]\n",
      " [8 5 6]]\n"
     ]
    },
    {
     "data": {
      "text/plain": [
       "[array([[1],\n",
       "        [8]]), array([[2],\n",
       "        [5]]), array([[9],\n",
       "        [6]])]"
      ]
     },
     "execution_count": 18,
     "metadata": {},
     "output_type": "execute_result"
    }
   ],
   "source": [
    "print(a)\n",
    "np.hsplit(a,3) # split into 3 chunks"
   ]
  },
  {
   "cell_type": "markdown",
   "metadata": {},
   "source": [
    "## Indexing and iterating\n",
    "\n",
    "You can index an ndarray the same way you can index a list; if the ndarray is multidimensional you specify the ranges for each dimension in turn, separated by commas:"
   ]
  },
  {
   "cell_type": "code",
   "execution_count": 20,
   "metadata": {},
   "outputs": [
    {
     "data": {
      "text/plain": [
       "array([[2, 9],\n",
       "       [5, 6]])"
      ]
     },
     "execution_count": 20,
     "metadata": {},
     "output_type": "execute_result"
    }
   ],
   "source": [
    "# here, remember the colon asks for all values\n",
    "# (thus all rows and all columns after and including the second one - column1)\n",
    "a[:,1:]"
   ]
  },
  {
   "cell_type": "markdown",
   "metadata": {},
   "source": [
    "An `ndarray` is *Iterable*, so can be used in a `for`-loop; it will iterate over the first dimension (the rows):"
   ]
  },
  {
   "cell_type": "code",
   "execution_count": 21,
   "metadata": {},
   "outputs": [
    {
     "name": "stdout",
     "output_type": "stream",
     "text": [
      "Here is a row: [1 2 9]\n",
      "Here is a row: [8 5 6]\n"
     ]
    }
   ],
   "source": [
    "for i in a:\n",
    "    print(\"Here is a row:\", i)"
   ]
  },
  {
   "cell_type": "markdown",
   "metadata": {},
   "source": [
    "If you want to iterate over all items in the array, the `flat` field contains an iterator over all entries:"
   ]
  },
  {
   "cell_type": "code",
   "execution_count": 22,
   "metadata": {},
   "outputs": [
    {
     "name": "stdout",
     "output_type": "stream",
     "text": [
      "Entry:  1\n",
      "Entry:  2\n",
      "Entry:  9\n",
      "Entry:  8\n",
      "Entry:  5\n",
      "Entry:  6\n"
     ]
    }
   ],
   "source": [
    "for entry in a.flat:\n",
    "    print(\"Entry: \", entry)"
   ]
  },
  {
   "cell_type": "markdown",
   "metadata": {},
   "source": [
    "To loop over the columns of the matrix, use the transpose of the matrix, which is available as the `T` field:"
   ]
  },
  {
   "cell_type": "code",
   "execution_count": 24,
   "metadata": {},
   "outputs": [
    {
     "name": "stdout",
     "output_type": "stream",
     "text": [
      "Here is a column:  [1 8]\n",
      "Here is a column:  [2 5]\n",
      "Here is a column:  [9 6]\n"
     ]
    }
   ],
   "source": [
    "for i in a.T:\n",
    "    print(\"Here is a column: \", i)"
   ]
  },
  {
   "cell_type": "markdown",
   "metadata": {},
   "source": [
    "## Functions and operators that operate on each array entry\n",
    "\n",
    "Regular mathematical operators are applied to each entry individually:"
   ]
  },
  {
   "cell_type": "code",
   "execution_count": null,
   "metadata": {},
   "outputs": [],
   "source": [
    "c = np.arange(a.size).reshape(a.shape)  # creates new matrix \"c\"\n",
    "print(\"a:\\n\", a, \"\\nc:\\n\", c)\n",
    "print(\"a+c:\\n\", a+c)\n",
    "print(\"a+1:\\n\", a+1)\n",
    "print(\"a*c:\\n\", a*c)\n",
    "print(\"a*3:\\n\", a*3)"
   ]
  },
  {
   "cell_type": "markdown",
   "metadata": {},
   "source": [
    "There are also lots of useful functions that work on each entry individually. (These are called \"universal functions\") Here are a bunch of examples:"
   ]
  },
  {
   "cell_type": "code",
   "execution_count": 138,
   "metadata": {},
   "outputs": [
    {
     "name": "stdout",
     "output_type": "stream",
     "text": [
      "b = [7 5 3 1]\n",
      "np.exp(b)=  [1096.63315843  148.4131591    20.08553692    2.71828183]\n",
      "np.exp2(b)= [128.  32.   8.   2.]\n",
      "np.log(b)=  [1.94591015 1.60943791 1.09861229 0.        ]\n",
      "np.log2(b)= [2.80735492 2.32192809 1.5849625  0.        ]\n",
      "np.sin(b)=  [ 0.6569866  -0.95892427  0.14112001  0.84147098]\n",
      "np.sqrt(b)= [2.64575131 2.23606798 1.73205081 1.        ]\n"
     ]
    }
   ],
   "source": [
    "b = np.arange(7,0,-2) # from 7 to 0, in backwards steps of -2\n",
    "print(\"b =\", b)\n",
    "\n",
    "print(\"np.exp(b)= \", np.exp(b))\n",
    "print(\"np.exp2(b)=\", np.exp2(b))    # 2^()\n",
    "print(\"np.log(b)= \", np.log(b))\n",
    "print(\"np.log2(b)=\", np.log2(b))    # log base 2\n",
    "print(\"np.sin(b)= \", np.sin(b))\n",
    "print(\"np.sqrt(b)=\", np.sqrt(b))"
   ]
  },
  {
   "cell_type": "markdown",
   "metadata": {},
   "source": [
    "## Functions that operate on matrices or vectors as a whole"
   ]
  },
  {
   "cell_type": "code",
   "execution_count": 139,
   "metadata": {},
   "outputs": [
    {
     "name": "stdout",
     "output_type": "stream",
     "text": [
      "b   =   [7 5 3 1]\n",
      "sum(b)=    16\n",
      "min(b)=    1\n",
      "max(b)=    7\n",
      "median(b)= 4.0\n",
      "mean(b)=   4.0\n",
      "var(b)=    5.0\n",
      "stdev(b)=  2.23606797749979\n",
      "sort(b)=   [1 3 5 7]\n"
     ]
    }
   ],
   "source": [
    "print(\"b   =  \",b)\n",
    "print(\"sum(b)=   \", np.sum(b))\n",
    "print(\"min(b)=   \", np.min(b))\n",
    "print(\"max(b)=   \", np.max(b))\n",
    "print(\"median(b)=\", np.median(b))\n",
    "print(\"mean(b)=  \", np.mean(b))    # average of the entries\n",
    "print(\"var(b)=   \", np.var(b))     # variance of the entries\n",
    "print(\"stdev(b)= \", np.std(b))     # standard deviation of the entries\n",
    "print(\"sort(b)=  \", np.sort(b))    # new ndarray with size sorted entries"
   ]
  },
  {
   "cell_type": "markdown",
   "metadata": {},
   "source": [
    "## Linear algebra\n",
    "\n",
    "`NumPy` contains many common linear algebra operations and algorithms. If you have taken a linear algebra course before, you will appreciate how quickly it can take a matrix's inverse and do other operations on large matrices :)  \n",
    "\n",
    "For a complete reference, see [the NumPy documentation](https://docs.scipy.org/doc/numpy/reference/routines.linalg.html), but here are some examples:"
   ]
  },
  {
   "cell_type": "code",
   "execution_count": 46,
   "metadata": {},
   "outputs": [
    {
     "data": {
      "text/plain": [
       "array([[1, 8],\n",
       "       [2, 5],\n",
       "       [9, 6]])"
      ]
     },
     "execution_count": 46,
     "metadata": {},
     "output_type": "execute_result"
    }
   ],
   "source": [
    "# transpose\n",
    "a.T"
   ]
  },
  {
   "cell_type": "code",
   "execution_count": 52,
   "metadata": {},
   "outputs": [
    {
     "name": "stdout",
     "output_type": "stream",
     "text": [
      "a =\n",
      " [[1 2 9]\n",
      " [8 5 6]] \n",
      " and the matrix product of a and transpose of a:\n"
     ]
    },
    {
     "data": {
      "text/plain": [
       "array([[ 86,  72],\n",
       "       [ 72, 125]])"
      ]
     },
     "execution_count": 52,
     "metadata": {},
     "output_type": "execute_result"
    }
   ],
   "source": [
    "# product of matrices\n",
    "print(\"a =\\n\", a, \"\\n and the matrix product of a and transpose of a:\")\n",
    "np.dot(a,a.T)"
   ]
  },
  {
   "cell_type": "code",
   "execution_count": null,
   "metadata": {},
   "outputs": [],
   "source": [
    "# invert the matrix\n",
    "g = np.array([[1,3],[2,5]])\n",
    "print(\"g =\\n\", g, \"\\n and inverse of g:\")\n",
    "print(np.linalg.inv(g))\n",
    "print(\"and the matrix product of h and h-inverse is: \\n\", np.dot(h,np.linalg.inv(h)))\n",
    "print(\"the identity matrix of course! \\n\")\n",
    "h = np.array([[1,4],[2,5]])\n",
    "print(\"h =\\n\", h, \"\\n and inverse of h:\")\n",
    "print(np.linalg.inv(h))\n",
    "print(\"and the matrix product of h and h-inverse is: \\n\", np.dot(h,np.linalg.inv(h)))\n",
    "print(\"the identity matrix of course!\")"
   ]
  },
  {
   "cell_type": "code",
   "execution_count": null,
   "metadata": {},
   "outputs": [],
   "source": [
    "# compute the determinant\n",
    "np.linalg.det(g)"
   ]
  },
  {
   "cell_type": "markdown",
   "metadata": {},
   "source": [
    "# Matplotlib for plotting\n",
    "\n",
    "Matplotlib is an extensive plotting library for Python. It consists of a number of components:\n",
    "- Matplotlib API: the \"front end\" of the package for users, providing numerous primitive functions to create plots.\n",
    "- Renderers: modules that know how to draw to different devices or file types, such as postscript, svg, png, etcetera\n",
    "- PyPlot: a Matlab-like plotting interface.\n",
    "\n",
    "You will mostly use matplotlib via PyPlot. (There is also a thing called PyLab, which is the same as PyPlot but includes NumPy in the same namespace. It is cleaner to use these two modules in their own namespace, so we will not use PyLab.)\n",
    "\n",
    "Matplotlib works together beautifully with Numpy.\n",
    "\n",
    "To gain access to PyPlot, and to call its functions using the abbreviation `plt.` (instead of `mathplotlib.pyplot.`), it is customary to import it like this:"
   ]
  },
  {
   "cell_type": "code",
   "execution_count": 59,
   "metadata": {},
   "outputs": [],
   "source": [
    "import matplotlib.pyplot as plt"
   ]
  },
  {
   "cell_type": "markdown",
   "metadata": {},
   "source": [
    "## Scatter and Line plots\n",
    "\n",
    "One of the most common uses of plotting tools is to graph a bunch of $(x,y)$ coordinate pairs:"
   ]
  },
  {
   "cell_type": "code",
   "execution_count": null,
   "metadata": {},
   "outputs": [],
   "source": [
    "plt.plot(range(9),[3,5,2,8,9,7,13,11,22])\n",
    "plt.show()"
   ]
  },
  {
   "cell_type": "markdown",
   "metadata": {},
   "source": [
    "The `plot` function will generate the plot, and `show` will display it on the default output device, and block (suspend execution) until the output device is done plotting.  It is possible to get Python to create a separate viewing window containing the plot, but the program's execution only then resumes once the window is closed.\n",
    "\n",
    "If it doesn't happen by default, but you prefer it, you can make sure to embed the plot output in the Jupyter notebook with the following code line.  (This is not part of Python, but interpreted by Jupyter as a special command.)"
   ]
  },
  {
   "cell_type": "code",
   "execution_count": 136,
   "metadata": {},
   "outputs": [],
   "source": [
    "%matplotlib inline"
   ]
  },
  {
   "cell_type": "markdown",
   "metadata": {},
   "source": [
    "Alternatively, if you want some fancy plot-interaction tools inline, you can turn them on with this:"
   ]
  },
  {
   "cell_type": "code",
   "execution_count": 120,
   "metadata": {},
   "outputs": [],
   "source": [
    "%matplotlib notebook"
   ]
  },
  {
   "cell_type": "markdown",
   "metadata": {},
   "source": [
    "Using either of these options, the default output device will be the notebook itself. It does not block: output is immediately rendered and Python proceeds to execute code. Still, it's important to call `show` to signal that the plot is complete and that no more embellishments need to be drawn."
   ]
  },
  {
   "cell_type": "code",
   "execution_count": null,
   "metadata": {},
   "outputs": [],
   "source": [
    "plt.plot(range(9),[3,5,2,8,9,7,13,11,22])\n",
    "plt.show()"
   ]
  },
  {
   "cell_type": "markdown",
   "metadata": {},
   "source": [
    "Assuming you're in the *matplotlib notbook mode*, then after you are done interacting with the figure, it's probably a good idea to hit the \"stop interaction\" button in the upper right of the figure to clear up system resources.\n",
    "\n",
    "In fact, for now, we keep thing simpler and return to the regular inline mode WITHOUT plot interaction so that we don't need to remember to keep stopping plots:"
   ]
  },
  {
   "cell_type": "code",
   "execution_count": 122,
   "metadata": {},
   "outputs": [],
   "source": [
    "%matplotlib inline"
   ]
  },
  {
   "cell_type": "markdown",
   "metadata": {},
   "source": [
    "Note that in this particular plot's case, the $x$-coordinates of the points are not particularly exciting.  In this special case, since their values just correspond to the indices of the array's values, the $x$-axis values can be omitted because PyPlot will automatically plot an array's values against their indices when only one array is specified.  \n",
    "\n",
    "Also, instead of a line plot, we can select the point and line styles with an additional string argument. Below is an example, butsee online for more possibilities: there are a *lot* of available marker and line properties!"
   ]
  },
  {
   "cell_type": "code",
   "execution_count": null,
   "metadata": {},
   "outputs": [],
   "source": [
    "plt.plot([3,5,2,8,9,7,13,11,22], marker='*', linestyle='--', linewidth=2, color='g')\n",
    "plt.show()"
   ]
  },
  {
   "cell_type": "markdown",
   "metadata": {},
   "source": [
    "The supplied coordinates can describe any two dimensional path; often it's better to suppress lines altogether and use only markers to get a scatterplot (usually the data points correspond to actual measurements, and thus the connecting lines are often meaningless - and sometimes even distracting or misleading!). \n",
    "\n",
    "We can also specify the ranges of the axes and add labels and a legend. \n",
    "\n",
    "For constructing plots below, we can use the random number generating functions in NumPy to easily generate a bunch of normally distributed numbers to simulate noise in a measurement."
   ]
  },
  {
   "cell_type": "code",
   "execution_count": null,
   "metadata": {},
   "outputs": [],
   "source": [
    "# run this code line several times and observe randomness!\n",
    "np.random.randn(10)   # 10 random picks from standard normal dist: (center=0, stdev=1)"
   ]
  },
  {
   "cell_type": "code",
   "execution_count": null,
   "metadata": {},
   "outputs": [],
   "source": [
    "xs  = np.random.randn(100)*2-5\n",
    "ys  = np.random.randn(100)*2-3\n",
    "xs2 = np.random.randn(100)\n",
    "ys2 = np.random.randn(100)\n",
    "\n",
    "# add labels to the datasets\n",
    "plt.plot(xs, ys,           color='r', marker='o', \n",
    "         linestyle='None', label='bunchapoints')\n",
    "plt.plot(xs2, ys2,          color='g', marker='+',\n",
    "         linestyle='None', label='very different points')\n",
    "\n",
    "# change the axis limits using axis() \n",
    "# - axis('off') disables the axes altogether\n",
    "# - can also use xlim, ylim to set the axes individually\n",
    "plt.axis([-10,4,-8,4])\n",
    "\n",
    "# change the vertical axis tick marks to only include even numbers\n",
    "plt.yticks(np.arange(-8,6,2))\n",
    "\n",
    "# add grid lines\n",
    "plt.grid(True)\n",
    "\n",
    "# add labels to the axes\n",
    "plt.xlabel(\"The x coordinates of the points, yo!\")\n",
    "plt.ylabel(\"Large values of y over there! -->\")\n",
    "\n",
    "# add a legend listing the labels of the data sets\n",
    "plt.legend()\n",
    "\n",
    "plt.show()"
   ]
  },
  {
   "cell_type": "markdown",
   "metadata": {},
   "source": [
    "If you want to plot data on a log scale, you can use `plt.yscale('log')` and the same for the xscale. A shorthand is to replace the `plot` function by `semilogx`, `semilogy` or `loglog`.\n",
    "\n",
    "As a demo, consider a random walk, which starts at position 0 and where each step adds a standard normal random number to the position. The standard deviation of the position after $n$ steps is $\\sqrt{n}$, which will look like a straight line on a double logarithmic scale.\n",
    "So we can nicely visualise the size of *actual* deviations of the walk compared to the expectation."
   ]
  },
  {
   "cell_type": "code",
   "execution_count": null,
   "metadata": {},
   "outputs": [],
   "source": [
    "# again, since random data are generated with each running, \n",
    "# you can rerun this code and see different results each time!\n",
    "\n",
    "# First generate a random walk and show it\n",
    "n = 10000\n",
    "walk = np.cumsum(np.random.randn(n))\n",
    "sdev = np.sqrt(np.linspace(0,n,n))\n",
    "plt.plot(walk)\n",
    "plt.plot(sdev, 'g')\n",
    "plt.plot(-sdev, 'g')\n",
    "plt.show()"
   ]
  },
  {
   "cell_type": "code",
   "execution_count": null,
   "metadata": {},
   "outputs": [],
   "source": [
    "# Now plot the walk on a loglog scale \n",
    "\n",
    "# and rerun first the above code and then this one to plot new results\n",
    "# if you're in matplotlib \"notebook\" mode, you must first \"stop interaction\" \n",
    "\n",
    "plt.loglog(np.abs(walk))\n",
    "plt.loglog([1,n],[1,np.sqrt(n)], \"g-\")\n",
    "plt.show()"
   ]
  },
  {
   "cell_type": "markdown",
   "metadata": {},
   "source": [
    "We've now made two related plots; it's often useful to make a bunch of plots and group them together in a single figure. This is done with the `figure` and `subplot` functions. The `subplot` is given a numeric argument that defined the number of rows and columns of subplots and the index of the subplot we will proceed to define. It returns a handle to the subplot, that we can use to identify which subplot we want to modify."
   ]
  },
  {
   "cell_type": "code",
   "execution_count": null,
   "metadata": {},
   "outputs": [],
   "source": [
    "# This reuses the data above, but combines the two plots into one figure\n",
    "\n",
    "# Create the figure and make it a bit wider\n",
    "fig = plt.figure(figsize = (12,4))\n",
    "\n",
    "# Create two subplots\n",
    "p1a = plt.subplot(1,2,1)  # in figure with 1 row and 2 columns, this will be index =1\n",
    "p2a = plt.subplot(1,2,2)  # in figure with 1 row and 2 columns, this will be index =2\n",
    "\n",
    "# Plot the desired graphs in the right subplots\n",
    "p1a.plot(walk)\n",
    "p1a.plot(sdev, 'g')\n",
    "p1a.plot(-sdev, 'g')\n",
    "\n",
    "p2a.loglog(np.abs(walk))\n",
    "p2a.loglog([1,n],[1,np.sqrt(n)], \"g-\")\n",
    "\n",
    "plt.show()"
   ]
  },
  {
   "cell_type": "markdown",
   "metadata": {},
   "source": [
    "## More kinds of plots\n",
    "\n",
    "PyPlot supports many different kinds of graphs. We've covered line plots and scatter plots, but here is a brief demonstration of some of the most important kinds of graphs, where we include several plots in one figure with PyPlot's fancy `subplots()` function:"
   ]
  },
  {
   "cell_type": "code",
   "execution_count": null,
   "metadata": {},
   "outputs": [],
   "source": [
    "# create a figure and a 2x2 grid of subplots all at once\n",
    "fig, ax = plt.subplots(2,2,figsize=(10,10))\n",
    "\n",
    "# make a histogram in top-left position\n",
    "ax[0][0].hist(np.random.randn(1000), bins=20)\n",
    "ax[0][0].axis('off')        # can turn off the axis lines\n",
    "ax[0][0].set_title(\"hist\")\n",
    "\n",
    "\n",
    "# make a bar chart in top-right position\n",
    "ax[0][1].bar([2, 5, 6] ,bottom=[0,1,3], width=[1,2,1], height=[1,3,2],\\\n",
    "             color=['r', '#00b000', 'b']) # long code line continued with \\, \n",
    "                                          # #00b000 is a hex-triplet color code\n",
    "ax[0][1].set_title(\"bar\")\n",
    "#ax[0][1].axis('off')       # can turn off the axis lines\n",
    "\n",
    "\n",
    "# generate a two dimensional array zs, to demonstrate contour and heatmap plots\n",
    "def scalarfield(dx, dy):\n",
    "    return np.sqrt(dx*dx+dy*dy)\n",
    "ps = 200\n",
    "zs = np.empty([ps,ps])\n",
    "for x in range(ps):\n",
    "    for y in range(ps):\n",
    "        zs[x,y] = scalarfield(x-.1*ps, y-.3*ps) - scalarfield(x-.7*ps, y-.6*ps)\n",
    "\n",
    "# generate 3D contour plot\n",
    "lvl = np.linspace(zs.min(), zs.max(), 12) # 12 contour lines\n",
    "ax[1][0].contour(zs, levels=lvl)  # here, matrix row & column indices = independent variables\n",
    "#ax[1][0].axis('off')   # can turn off the axis lines\n",
    "ax[1][0].set_title('contour')\n",
    "\n",
    "# generate heat map plot\n",
    "ax[1][1].pcolor(zs)     # here, matrix row & column indices = independent variables\n",
    "ax[1][1].axis('off')    # can turn off the axis lines\n",
    "ax[1][1].set_title('pcolor')\n",
    "        \n",
    "plt.show()"
   ]
  },
  {
   "cell_type": "markdown",
   "metadata": {},
   "source": [
    "## Plotting data imported from a file\n",
    "\n",
    "The code below reads in data from a text file and plots some of them against each other in scatter plots.\n",
    "\n",
    "**NOTE:**  It will only find the data file if you have it located in the folder named below which has been placed as a subfolder of the directory where you are running this Jupyter Notebook file:  `datafolder/testdatafile.txt`"
   ]
  },
  {
   "cell_type": "code",
   "execution_count": null,
   "metadata": {},
   "outputs": [],
   "source": [
    "# this code reads in data from file and plots them\n",
    "\n",
    "# Do you want to change whether the figure is interactive?  then one of these may help:\n",
    "#%matplotlib inline\n",
    "#%matplotlib notebook\n",
    "#%matplotlib tk\n",
    "\n",
    "# import relevant libraries (if not already imported)\n",
    "import numpy as np\n",
    "import matplotlib.pyplot as plt\n",
    "from pathlib import Path  # pathlib.Path formats pathnames to suit your operating system\n",
    "\n",
    "\n",
    "# declare the appropriate filename as a string:\n",
    "filename = \"testdatafile.txt\"\n",
    "\n",
    "# Open file for reading with handle: \"f\", which is then acted upon below:\n",
    "sub_folder = Path(\"datafolder/\")     # set name of sub-directory where data is to be stored\n",
    "file_path = sub_folder / filename    # file path is combination of filename and its folder\n",
    "f = open(file_path, 'r')             # option 'r' opens for reading only\n",
    "\n",
    "# In case the file starts with text:  Read & then ignore any header line(s), one per line:\n",
    "#header1 = f.readline()\n",
    "#header1 = f.readline()\n",
    "#...\n",
    "#in my example of saved SERIALPORT DATA, there are NO header lines!\n",
    "\n",
    "# Create empty lists in which to add the data from each column in the file\n",
    "#in my example of saved SERIALPORT DATA, there are four columns, corresponding to:\n",
    "i = []  # index of measurement\n",
    "t = []  # time in microseconds of measurement\n",
    "a = []  # analog reading (in 10 bits, 0-1023) of signal\n",
    "d = []  # digital reading (0 or 1) of signal\n",
    "\n",
    "# This \"For Loop\" continues over all the lines and extracts values from each column\n",
    "for line in f:\n",
    "  columns = line.split()\n",
    "  i.append(int(columns[0]))  # if there are extra delimiters (eg commas) to strip, we use: \n",
    "  t.append(int(columns[1]))    # columns[1].strip(\",\")\n",
    "  a.append(int(columns[2]))\n",
    "  d.append(int(columns[3]))\n",
    "\n",
    "# We're done reading from the file, so we close it to free up computer memory space:\n",
    "f.close()\n",
    "\n",
    "print('\\n Your data file included '+ str(len(i)) +' data lines') \n",
    "\n",
    "# Instead of lists, we often want ndarrays to more easily analyze and plot\n",
    "# Define a list with the four ndarrays as its four elements:\n",
    "data_array_list = [np.array(i,dtype='i'), np.array(t,dtype='i'),\\\n",
    "                   np.array(a,dtype='i'), np.array(d,dtype='i')]   # long line continued: \\ \n",
    "\n",
    "# This figure initialization and for loop creates 3 subplots\n",
    "fig, ax = plt.subplots(1,3,figsize=(12,5))  #fig is whole figure, ax is list of subplots\n",
    "axislabels = [\"measurement's index\",'time (microseconds)','analog reading','digital reading']\n",
    "counter = 0          # counter is for refering to the three subplots (0,1,2)\n",
    "for k in (0,2,3) :   # k is for refering to the three y-axis arrays & their labels: i, a, d \n",
    "    ax[counter].plot(data_array_list[1], data_array_list[k], '.')\n",
    "    ax[counter].set(xlabel=axislabels[1])   # labels, etc in subplots are defined via .set()\n",
    "    ax[counter].set(ylabel=axislabels[k])   # labels, etc in subplots are defined via .set()\n",
    "    ax[counter].ticklabel_format(axis='x', style='sci', scilimits=(0,0), useMathText=True)\n",
    "                # .ticklabel_format() formats axis labels, here giving scientific notation\n",
    "    counter += 1\n",
    "\n",
    "# Display the figure:\n",
    "plt.tight_layout()      # a special function that helps avoid overlap of subplots & axis label\n",
    "plt.show()"
   ]
  },
  {
   "cell_type": "markdown",
   "metadata": {},
   "source": [
    "After importing the file's data with above code, you may want to only plot the analog reading versus time graph:"
   ]
  },
  {
   "cell_type": "code",
   "execution_count": null,
   "metadata": {},
   "outputs": [],
   "source": [
    "# after importing file's data with above code, this only plots analog reading versus time:\n",
    "\n",
    "# uncomment next line if you want an interactive figure:\n",
    "#%matplotlib notebook\n",
    "\n",
    "plt.figure(figsize=(12,5))\n",
    "plt.plot(data_array_list[1], data_array_list[2], 'o-')  # 'o-' = Dots + lines\n",
    "plt.xlabel(axislabels[1])       # special function in .plot\n",
    "plt.ylabel(axislabels[2])       # special function in .plot\n",
    "plt.ticklabel_format(axis='x', style='sci', scilimits=(0,0), useMathText=True)\n",
    "plt.show()"
   ]
  },
  {
   "cell_type": "markdown",
   "metadata": {},
   "source": [
    "## Easier data import function\n",
    "\n",
    "Finally, please note that data loading can be accomplished with fewer lines of code with the help of the function `loadtxt()` in the numpy library.  This allows us to replace the following lines of code in the previous method:\n",
    "\n",
    "```\n",
    "f = open(file_path, 'r')             # option 'r' opens for reading only\n",
    "\n",
    "i = []  # index of measurement\n",
    "t = []  # time in microseconds of measurement\n",
    "a = []  # analog reading (in 10 bits, 0-1023) of signal\n",
    "d = []  # digital reading (0 or 1) of signal\n",
    "\n",
    "for line in f:\n",
    "  columns = line.split()\n",
    "  i.append(int(columns[0]))  # if there are extra delimiters (eg commas) to strip, we use: \n",
    "  t.append(int(columns[1]))    # columns[1].strip(\",\")\n",
    "  a.append(int(columns[2]))\n",
    "  d.append(int(columns[3]))\n",
    "\n",
    "f.close()\n",
    "\n",
    "data_array_list = [np.array(i,dtype='i'), np.array(t,dtype='i'),\\\n",
    "                   np.array(a,dtype='i'), np.array(d,dtype='i')]   # long line continued: \\ \n",
    "\n",
    "```\n",
    "\n",
    "with just one line:\n",
    "\n",
    "```\n",
    "array = np.loadtxt(file_path, delimiter='\\t') # loads file's data (tab-separated) into \"array\"\n",
    "                                              # for comma-separated-value data:  delimiter=','\n",
    "```\n",
    "\n",
    "Thus, in subsequent documents, we will use this easier method.  But, for some file types, the `loadtxt()` function may not work, thus it's useful to have seen the method above."
   ]
  },
  {
   "cell_type": "code",
   "execution_count": null,
   "metadata": {},
   "outputs": [],
   "source": [
    "#  here we load the same data but use the loadtxt() function in numpy:\n",
    "\n",
    "import numpy as np\n",
    "import matplotlib.pylab as plt\n",
    "from pathlib import Path  # pathlib.Path formats pathnames to suit your operating system\n",
    "\n",
    "### uncomment one of the following:  \n",
    "### \"notebook\" plotting mode allows for interactive (zoom-able) plots, \n",
    "### \"inline\" doesn't and just shows static plots\n",
    "# %matplotlib notebook   \n",
    "# %matplotlib inline\n",
    "\n",
    "# declare the appropriate filename as a string:\n",
    "filename = \"testdatafile.txt\"   # was sent in zipfile along with this Jupyter Notebook\n",
    "\n",
    "sub_folder = Path(\"datafolder/\")     # set name of sub-directory where data is to be stored\n",
    "file_path = sub_folder / filename    # file path is combination of filename and its folder\n",
    "\n",
    "array = np.loadtxt(file_path, delimiter='\\t') # loads file's data (tab-separated) into \"array\"\n",
    "                                              # for comma-separated-value data:  delimiter=','\n",
    "    \n",
    "# \"array\" has 4 columns, 1st = indices, 2nd = times, 3rd = analog readings, 4th = digital readings\n",
    "# here, we create new arrays for each of them:\n",
    "indexarray = array[:,0] # [:,0] means values from \":\"=ALL rows and 0th (first) column\n",
    "timearray = array[:,1]  # [:,1] means values from \":\"=ALL rows and 1th (second) column\n",
    "analogarray = array[:,2]  # [:,2] means values from \":\"=ALL rows and 2th (third) column\n",
    "digitalarray = array[:,3]  # [:,3] means values from \":\"=ALL rows and 3th (fourth) column\n",
    "\n",
    "plt.figure(figsize=(9, 6))\n",
    "plt.plot(timearray, analogarray, \".\") \n",
    "plt.xlabel(\"time (microseconds)\")\n",
    "plt.ylabel(\"analog signal (bits = arbitrary units)\")\n",
    "plt.show()\n",
    "\n",
    "#  NOTE:  if you're in %matplotlib notebook Mode, you may have to run this twice before it works"
   ]
  },
  {
   "cell_type": "markdown",
   "metadata": {},
   "source": [
    "# Acknowledgements\n",
    "\n",
    "This document includes significant material, structure, and inspiration from documents in Professor Gary Steele's \"Introduction to Python for Physicists\" (https://gitlab.tudelft.nl/python-for-applied-physics/practicum-lecture-notes).\n",
    "\n",
    "Jan Koetsier is largely to thank for the adaptation and extension of these materials for Maker Lab students.\n",
    "\n",
    "Questions or suggestions can be sent to Forrest Bradbury (https://orcid.org/0000-0001-8412-4091) :  forrestbradbury (\"AT\") gmail.com"
   ]
  }
 ],
 "metadata": {
  "kernelspec": {
   "display_name": "Python 3",
   "language": "python",
   "name": "python3"
  },
  "language_info": {
   "codemirror_mode": {
    "name": "ipython",
    "version": 3
   },
   "file_extension": ".py",
   "mimetype": "text/x-python",
   "name": "python",
   "nbconvert_exporter": "python",
   "pygments_lexer": "ipython3",
   "version": "3.7.4"
  },
  "toc": {
   "base_numbering": 1,
   "nav_menu": {},
   "number_sections": true,
   "sideBar": true,
   "skip_h1_title": false,
   "title_cell": "Table of Contents",
   "title_sidebar": "Contents",
   "toc_cell": false,
   "toc_position": {
    "height": "calc(100% - 180px)",
    "left": "10px",
    "top": "150px",
    "width": "203.367px"
   },
   "toc_section_display": true,
   "toc_window_display": true
  }
 },
 "nbformat": 4,
 "nbformat_minor": 1
}
