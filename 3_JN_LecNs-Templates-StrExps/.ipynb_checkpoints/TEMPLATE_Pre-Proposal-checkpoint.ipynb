{
 "cells": [
  {
   "cell_type": "markdown",
   "metadata": {},
   "source": [
    "Jupyter Notebook Template:  <span style=\"font-size:larger;color:blue\">**Open-Inquiry Project Pre-Proposal**</span>\n",
    "\n",
    "This document was developed as part of a collection to support open-inquiry physical science experiments in Bachelor's level lab courses.  \n",
    "\n",
    "<a rel=\"license\" href=\"http://creativecommons.org/licenses/by-nc-sa/4.0/\"><img alt=\"Creative Commons License\" style=\"border-width:0\" src=\"https://i.creativecommons.org/l/by-nc-sa/4.0/88x31.png\" /></a><br />This work is licensed under a <a rel=\"license\" href=\"http://creativecommons.org/licenses/by-nc-sa/4.0/\">Creative Commons Attribution-NonCommercial-ShareAlike 4.0 International License</a>.  Everyone is free to reuse or adapt the materials under the conditions that they give appropriate attribution, do not use them nor derivatives of them for commercial purposes, and that any distributed or re-published adaptations are given the same Creative Commons License.\n",
    "\n",
    "Freek Pols (https://orcid.org/0000-0002-4690-6460) helped with the conception and development of these materials.  \n",
    "\n",
    "Forrest Bradbury (https://orcid.org/0000-0001-8412-4091) of Amsterdam University College is responsible for this material and can be reached by email:  forrestbradbury (\"AT\") gmail.com\n",
    "******"
   ]
  },
  {
   "cell_type": "markdown",
   "metadata": {},
   "source": [
    "***********\n",
    "\n",
    "**NAMES:**  \n",
    "\n",
    "************\n",
    "\n",
    "\n",
    "**working title of experimental project:**\n",
    "*************"
   ]
  },
  {
   "cell_type": "markdown",
   "metadata": {},
   "source": [
    "<span style=\"color:red\">**Completion and instructor approval of this Pre-Proposal form is a pre-requirement for starting your open-inquiry project**</span>.  The first section describes your experimental ideas and why you believe them to be interesting and feasible.  The second section details the supplies that you will need - highlighting those additional to what is already available.  The third section requires a rigorous assessment of potential ethical and safety considerations.  \n",
    "\n",
    "><span style=\"font-size:large;color:brown\">**Pre-Proposal Form for Open-Inquiry Experiment**</span>\n",
    ">\n",
    ">\n",
    ">\n",
    ">- <span style=\"font-size:large;\">Abstract describing methods and goals</span>   \n",
    ">      plus extra details on:   \n",
    ">      . Motivation and/or Learning Goals   \n",
    ">      . Scientific background   \n",
    ">      . Statistical/mathematical models   \n",
    ">      . Feasibility analysis (comparing measurement uncertainty and effect size)  \n",
    ">\n",
    "> \n",
    ">\n",
    ">\n",
    ">- <span style=\"font-size:large;\">List of necessary supplies</span>\n",
    ">\n",
    ">\n",
    ">\n",
    ">- <span style=\"font-size:large;\">Ethical and Safety considerations</span>\n",
    ">"
   ]
  },
  {
   "cell_type": "markdown",
   "metadata": {},
   "source": [
    "***********\n",
    "**Note:**\n",
    "\n",
    "If you need a reminder about creating, editing, or running cells in Jupyter Notebook - and especially using the Markdown text-editing language, please refer to the earlier lecture note file:  [LN1_JupyterNotebook-and-Markdown](LN1_JupyterNotebook-and-Markdown.ipynb)\n",
    "\n",
    "\n",
    "# Abstract describing methods and goals\n",
    "\n",
    "While there are extra boxes below asking for more specific details on various components of the proposal, this description should be a **stand-alone summary**, communicate all the most important aspects, and be written in the clear and concise manner prevalent in the natural sciences.  It should briefly touch on the components below until and including the main conclusions of the feasibility analysis.  \n",
    "\n",
    "*This Abstract should NOT include Ethical and Safety concerns and the List of necessary supplies (both of these deserve careful attention, and thus attempting to briefly summarize them is not desirable).*\n",
    "\n",
    "*Requirement:  in keeping with the focus on adapting Maker tools for the design and control of the experimental process, your project must somehow use an Arduino in your experimental methods.*\n",
    "\n",
    "************\n",
    "(max 400 words)\n",
    "\n"
   ]
  },
  {
   "cell_type": "markdown",
   "metadata": {},
   "source": [
    "***...insert your text in this cell...***\n"
   ]
  },
  {
   "cell_type": "markdown",
   "metadata": {},
   "source": [
    "***********\n",
    "## details of Motivation and/or Learning Goals\n",
    "\n",
    "Out of sheer curiosity, your instructors would like to know why you’re choosing this project topic.  Besides “earning a good grade”, “measuring something”, or “empirically  determining a relationship”, what are your own learning goals for this project?  There are NO wrong answers here!  You could be trying to learn & practice some specific experimental skills, investigating some natural science phenomenon that you find interesting, testing out your own zany invention, or even trying to prove someone wrong.\n",
    "\n",
    "Please tell below why someone (hopefully including you) might be interested in the results of your proposed experiments, and what you hope to learn from the project.\n",
    "\n",
    "*************\n",
    "(max 100 words)\n",
    "\n"
   ]
  },
  {
   "cell_type": "markdown",
   "metadata": {},
   "source": [
    "***...insert your text in this cell...***\n"
   ]
  },
  {
   "cell_type": "markdown",
   "metadata": {},
   "source": [
    "*******\n",
    "## details of Scientific background\n",
    "\n",
    "What separates a crazy idea from a good one?  Scientific insights!  In the box below, please briefly describe the scientific theories and background related to your research goal and experimental methods. \n",
    "\n",
    "Give references where appropriate!\n",
    "\n",
    "**********\n",
    "(max 150 words, not including references)\n"
   ]
  },
  {
   "cell_type": "markdown",
   "metadata": {},
   "source": [
    "***...insert your text in this cell...***\n",
    "\n"
   ]
  },
  {
   "cell_type": "markdown",
   "metadata": {},
   "source": [
    "*********\n",
    "## details of Statistical or mathematical models\n",
    "\n",
    "Your experimental results will involve quantitative data analysis, which means comparing how well they agree with a statistical or mathematical model.  Below you should describe, mathematically, how your data will be compared to your expectations and/or model. \n",
    "\n",
    "********\n",
    "(max 150 words)\n"
   ]
  },
  {
   "cell_type": "markdown",
   "metadata": {},
   "source": [
    "***...insert your text in this cell...***\n"
   ]
  },
  {
   "cell_type": "markdown",
   "metadata": {},
   "source": [
    "***********\n",
    "## details of Feasibility analysis\n",
    "\n",
    "Feasibility depends on a comparison of the desired and obtainable resolution of your measurements:\n",
    "\n",
    "###  Uncertainty estimates\n",
    "\n",
    "How will you determine which measurement uncertainties will limit your results?  How might you reduce the dominate sources of uncertainty?  What is your current estimation of the magnitudes of these uncertainties, and of their propagated effects?\n",
    "\n",
    "\n",
    "### Expected effect size\n",
    "\n",
    "How much measurement precision will be needed to resolve the expected signals or effects?  Refer to any and all publications, back-of-the-napkin calculations, or initial tests which show how large the expected signals (or expected signal variations) should be when limited by your achievable range of values for independent variables and parameters.\n",
    "\n",
    "\n",
    "### Feasibility assessment (needs to be positive!)\n",
    "\n",
    "Compare your uncertainty estimate and expected effect size:  will your expected measurement precision allow you to measure the desired effect?\n",
    "\n",
    "**********\n",
    "(max 150 words, not including references)\n"
   ]
  },
  {
   "cell_type": "markdown",
   "metadata": {},
   "source": [
    "***...insert your text in this cell...***\n",
    "\n"
   ]
  },
  {
   "cell_type": "markdown",
   "metadata": {},
   "source": [
    "*********\n",
    "# List of necessary supplies\n",
    "\n",
    "What supplies (and equipment) might you need for a successful experiment?\n",
    "\n",
    "*While you should list here ALL needed supplies, please also <span style=\"background-color: #FFFF00;color:red\">highlight the ones that are not yet available to you</span> and that you need help or money in obtaining (if additional reimbursed purchases are allowed, please give links to online catalogs and an itemized total price estimate).*\n",
    "\n",
    "********"
   ]
  },
  {
   "cell_type": "markdown",
   "metadata": {},
   "source": [
    "***...insert your text in this cell...***\n",
    "\n"
   ]
  },
  {
   "cell_type": "markdown",
   "metadata": {},
   "source": [
    "*********\n",
    "# Ethical and Safety considerations\n",
    "\n",
    "In this section, please include data privacy issues and/or potential risks to persons, animals, property, or the natural environment.\n",
    "\n",
    "Regarding safety, in addition to any concerns regarding the scientific equipment, you must also consider issues relating to using (or mis-using) common household objects.  Reviewing user manuals for correct and safe usage of all equipment (scientific or otherwise) is mandatory.  \n",
    "\n",
    "Also, if and when you adjust your experimental methods during the course of this project, any changes relating to safety or ethical/privacy issues should be first checked with instructors before implementation.\n",
    "\n",
    "\n",
    "<span style=\"font-size:larger;color:red\">**Please know that ethical concerns or potentially unsafe practices are a valid excuse for any of the project team members to halt your experimental procedures at any time, even if your instructors did not previously recognize the concerns.  Since you will be conducting experiments of your own design outside of a supervised setting, the final responsibilty lies in your hands.**</span>\n",
    "\n",
    "********"
   ]
  },
  {
   "cell_type": "markdown",
   "metadata": {},
   "source": [
    "***...insert your text in this cell...***\n",
    "\n"
   ]
  }
 ],
 "metadata": {
  "kernelspec": {
   "display_name": "Python 3",
   "language": "python",
   "name": "python3"
  },
  "language_info": {
   "codemirror_mode": {
    "name": "ipython",
    "version": 3
   },
   "file_extension": ".py",
   "mimetype": "text/x-python",
   "name": "python",
   "nbconvert_exporter": "python",
   "pygments_lexer": "ipython3",
   "version": "3.7.4"
  },
  "toc": {
   "base_numbering": 1,
   "nav_menu": {},
   "number_sections": true,
   "sideBar": true,
   "skip_h1_title": false,
   "title_cell": "Table of Contents",
   "title_sidebar": "Contents",
   "toc_cell": false,
   "toc_position": {
    "height": "428.667px",
    "left": "518px",
    "top": "110.883px",
    "width": "165px"
   },
   "toc_section_display": true,
   "toc_window_display": false
  }
 },
 "nbformat": 4,
 "nbformat_minor": 2
}
